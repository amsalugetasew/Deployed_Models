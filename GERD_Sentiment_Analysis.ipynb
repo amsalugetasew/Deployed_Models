{
  "nbformat": 4,
  "nbformat_minor": 0,
  "metadata": {
    "colab": {
      "provenance": [],
      "gpuType": "T4",
      "mount_file_id": "1f_oUZFFRDfJDzJM8zUbYktWvJ2wSL-f4",
      "authorship_tag": "ABX9TyOAnITAq2ErGd6L7kiAtnUg",
      "include_colab_link": true
    },
    "kernelspec": {
      "name": "python3",
      "display_name": "Python 3"
    },
    "language_info": {
      "name": "python"
    },
    "accelerator": "GPU",
    "widgets": {
      "application/vnd.jupyter.widget-state+json": {
        "07a818221d5f4367b0954eb93d155635": {
          "model_module": "@jupyter-widgets/controls",
          "model_name": "HBoxModel",
          "model_module_version": "1.5.0",
          "state": {
            "_dom_classes": [],
            "_model_module": "@jupyter-widgets/controls",
            "_model_module_version": "1.5.0",
            "_model_name": "HBoxModel",
            "_view_count": null,
            "_view_module": "@jupyter-widgets/controls",
            "_view_module_version": "1.5.0",
            "_view_name": "HBoxView",
            "box_style": "",
            "children": [
              "IPY_MODEL_479ce99bd3ae4564abb63b3570a16311",
              "IPY_MODEL_6db247dd51b84885bc73ac47f641e5e2",
              "IPY_MODEL_db7c796fb9324359a20851ef0ff369f8"
            ],
            "layout": "IPY_MODEL_95d7c75c215f47baba5b5b0877a456ca"
          }
        },
        "479ce99bd3ae4564abb63b3570a16311": {
          "model_module": "@jupyter-widgets/controls",
          "model_name": "HTMLModel",
          "model_module_version": "1.5.0",
          "state": {
            "_dom_classes": [],
            "_model_module": "@jupyter-widgets/controls",
            "_model_module_version": "1.5.0",
            "_model_name": "HTMLModel",
            "_view_count": null,
            "_view_module": "@jupyter-widgets/controls",
            "_view_module_version": "1.5.0",
            "_view_name": "HTMLView",
            "description": "",
            "description_tooltip": null,
            "layout": "IPY_MODEL_6f852a48ed8a48d5a357eac80a498de2",
            "placeholder": "​",
            "style": "IPY_MODEL_a5913be26a744bc4bad54c4798db7717",
            "value": "tokenizer_config.json: 100%"
          }
        },
        "6db247dd51b84885bc73ac47f641e5e2": {
          "model_module": "@jupyter-widgets/controls",
          "model_name": "FloatProgressModel",
          "model_module_version": "1.5.0",
          "state": {
            "_dom_classes": [],
            "_model_module": "@jupyter-widgets/controls",
            "_model_module_version": "1.5.0",
            "_model_name": "FloatProgressModel",
            "_view_count": null,
            "_view_module": "@jupyter-widgets/controls",
            "_view_module_version": "1.5.0",
            "_view_name": "ProgressView",
            "bar_style": "success",
            "description": "",
            "description_tooltip": null,
            "layout": "IPY_MODEL_bdfa720dec9c4eb3b1a8a902f0cf5fe1",
            "max": 29,
            "min": 0,
            "orientation": "horizontal",
            "style": "IPY_MODEL_2d4905e7aebb45e593bc0a49b3a04e4c",
            "value": 29
          }
        },
        "db7c796fb9324359a20851ef0ff369f8": {
          "model_module": "@jupyter-widgets/controls",
          "model_name": "HTMLModel",
          "model_module_version": "1.5.0",
          "state": {
            "_dom_classes": [],
            "_model_module": "@jupyter-widgets/controls",
            "_model_module_version": "1.5.0",
            "_model_name": "HTMLModel",
            "_view_count": null,
            "_view_module": "@jupyter-widgets/controls",
            "_view_module_version": "1.5.0",
            "_view_name": "HTMLView",
            "description": "",
            "description_tooltip": null,
            "layout": "IPY_MODEL_3bbb2a9d5c9542cc9b98e31fe97f2d8d",
            "placeholder": "​",
            "style": "IPY_MODEL_45de4dff05c94dc18d93eabb5d3cfc69",
            "value": " 29.0/29.0 [00:00&lt;00:00, 633B/s]"
          }
        },
        "95d7c75c215f47baba5b5b0877a456ca": {
          "model_module": "@jupyter-widgets/base",
          "model_name": "LayoutModel",
          "model_module_version": "1.2.0",
          "state": {
            "_model_module": "@jupyter-widgets/base",
            "_model_module_version": "1.2.0",
            "_model_name": "LayoutModel",
            "_view_count": null,
            "_view_module": "@jupyter-widgets/base",
            "_view_module_version": "1.2.0",
            "_view_name": "LayoutView",
            "align_content": null,
            "align_items": null,
            "align_self": null,
            "border": null,
            "bottom": null,
            "display": null,
            "flex": null,
            "flex_flow": null,
            "grid_area": null,
            "grid_auto_columns": null,
            "grid_auto_flow": null,
            "grid_auto_rows": null,
            "grid_column": null,
            "grid_gap": null,
            "grid_row": null,
            "grid_template_areas": null,
            "grid_template_columns": null,
            "grid_template_rows": null,
            "height": null,
            "justify_content": null,
            "justify_items": null,
            "left": null,
            "margin": null,
            "max_height": null,
            "max_width": null,
            "min_height": null,
            "min_width": null,
            "object_fit": null,
            "object_position": null,
            "order": null,
            "overflow": null,
            "overflow_x": null,
            "overflow_y": null,
            "padding": null,
            "right": null,
            "top": null,
            "visibility": null,
            "width": null
          }
        },
        "6f852a48ed8a48d5a357eac80a498de2": {
          "model_module": "@jupyter-widgets/base",
          "model_name": "LayoutModel",
          "model_module_version": "1.2.0",
          "state": {
            "_model_module": "@jupyter-widgets/base",
            "_model_module_version": "1.2.0",
            "_model_name": "LayoutModel",
            "_view_count": null,
            "_view_module": "@jupyter-widgets/base",
            "_view_module_version": "1.2.0",
            "_view_name": "LayoutView",
            "align_content": null,
            "align_items": null,
            "align_self": null,
            "border": null,
            "bottom": null,
            "display": null,
            "flex": null,
            "flex_flow": null,
            "grid_area": null,
            "grid_auto_columns": null,
            "grid_auto_flow": null,
            "grid_auto_rows": null,
            "grid_column": null,
            "grid_gap": null,
            "grid_row": null,
            "grid_template_areas": null,
            "grid_template_columns": null,
            "grid_template_rows": null,
            "height": null,
            "justify_content": null,
            "justify_items": null,
            "left": null,
            "margin": null,
            "max_height": null,
            "max_width": null,
            "min_height": null,
            "min_width": null,
            "object_fit": null,
            "object_position": null,
            "order": null,
            "overflow": null,
            "overflow_x": null,
            "overflow_y": null,
            "padding": null,
            "right": null,
            "top": null,
            "visibility": null,
            "width": null
          }
        },
        "a5913be26a744bc4bad54c4798db7717": {
          "model_module": "@jupyter-widgets/controls",
          "model_name": "DescriptionStyleModel",
          "model_module_version": "1.5.0",
          "state": {
            "_model_module": "@jupyter-widgets/controls",
            "_model_module_version": "1.5.0",
            "_model_name": "DescriptionStyleModel",
            "_view_count": null,
            "_view_module": "@jupyter-widgets/base",
            "_view_module_version": "1.2.0",
            "_view_name": "StyleView",
            "description_width": ""
          }
        },
        "bdfa720dec9c4eb3b1a8a902f0cf5fe1": {
          "model_module": "@jupyter-widgets/base",
          "model_name": "LayoutModel",
          "model_module_version": "1.2.0",
          "state": {
            "_model_module": "@jupyter-widgets/base",
            "_model_module_version": "1.2.0",
            "_model_name": "LayoutModel",
            "_view_count": null,
            "_view_module": "@jupyter-widgets/base",
            "_view_module_version": "1.2.0",
            "_view_name": "LayoutView",
            "align_content": null,
            "align_items": null,
            "align_self": null,
            "border": null,
            "bottom": null,
            "display": null,
            "flex": null,
            "flex_flow": null,
            "grid_area": null,
            "grid_auto_columns": null,
            "grid_auto_flow": null,
            "grid_auto_rows": null,
            "grid_column": null,
            "grid_gap": null,
            "grid_row": null,
            "grid_template_areas": null,
            "grid_template_columns": null,
            "grid_template_rows": null,
            "height": null,
            "justify_content": null,
            "justify_items": null,
            "left": null,
            "margin": null,
            "max_height": null,
            "max_width": null,
            "min_height": null,
            "min_width": null,
            "object_fit": null,
            "object_position": null,
            "order": null,
            "overflow": null,
            "overflow_x": null,
            "overflow_y": null,
            "padding": null,
            "right": null,
            "top": null,
            "visibility": null,
            "width": null
          }
        },
        "2d4905e7aebb45e593bc0a49b3a04e4c": {
          "model_module": "@jupyter-widgets/controls",
          "model_name": "ProgressStyleModel",
          "model_module_version": "1.5.0",
          "state": {
            "_model_module": "@jupyter-widgets/controls",
            "_model_module_version": "1.5.0",
            "_model_name": "ProgressStyleModel",
            "_view_count": null,
            "_view_module": "@jupyter-widgets/base",
            "_view_module_version": "1.2.0",
            "_view_name": "StyleView",
            "bar_color": null,
            "description_width": ""
          }
        },
        "3bbb2a9d5c9542cc9b98e31fe97f2d8d": {
          "model_module": "@jupyter-widgets/base",
          "model_name": "LayoutModel",
          "model_module_version": "1.2.0",
          "state": {
            "_model_module": "@jupyter-widgets/base",
            "_model_module_version": "1.2.0",
            "_model_name": "LayoutModel",
            "_view_count": null,
            "_view_module": "@jupyter-widgets/base",
            "_view_module_version": "1.2.0",
            "_view_name": "LayoutView",
            "align_content": null,
            "align_items": null,
            "align_self": null,
            "border": null,
            "bottom": null,
            "display": null,
            "flex": null,
            "flex_flow": null,
            "grid_area": null,
            "grid_auto_columns": null,
            "grid_auto_flow": null,
            "grid_auto_rows": null,
            "grid_column": null,
            "grid_gap": null,
            "grid_row": null,
            "grid_template_areas": null,
            "grid_template_columns": null,
            "grid_template_rows": null,
            "height": null,
            "justify_content": null,
            "justify_items": null,
            "left": null,
            "margin": null,
            "max_height": null,
            "max_width": null,
            "min_height": null,
            "min_width": null,
            "object_fit": null,
            "object_position": null,
            "order": null,
            "overflow": null,
            "overflow_x": null,
            "overflow_y": null,
            "padding": null,
            "right": null,
            "top": null,
            "visibility": null,
            "width": null
          }
        },
        "45de4dff05c94dc18d93eabb5d3cfc69": {
          "model_module": "@jupyter-widgets/controls",
          "model_name": "DescriptionStyleModel",
          "model_module_version": "1.5.0",
          "state": {
            "_model_module": "@jupyter-widgets/controls",
            "_model_module_version": "1.5.0",
            "_model_name": "DescriptionStyleModel",
            "_view_count": null,
            "_view_module": "@jupyter-widgets/base",
            "_view_module_version": "1.2.0",
            "_view_name": "StyleView",
            "description_width": ""
          }
        },
        "e9018d9411694df38733bf6bdf8469a1": {
          "model_module": "@jupyter-widgets/controls",
          "model_name": "HBoxModel",
          "model_module_version": "1.5.0",
          "state": {
            "_dom_classes": [],
            "_model_module": "@jupyter-widgets/controls",
            "_model_module_version": "1.5.0",
            "_model_name": "HBoxModel",
            "_view_count": null,
            "_view_module": "@jupyter-widgets/controls",
            "_view_module_version": "1.5.0",
            "_view_name": "HBoxView",
            "box_style": "",
            "children": [
              "IPY_MODEL_3e7666553078431bb977d638ac2d35f7",
              "IPY_MODEL_e03f648f527046dcac4d1cc91a1a635e",
              "IPY_MODEL_6045650bb7c74a43a0d6f927dc8b7ee0"
            ],
            "layout": "IPY_MODEL_10758efb6a834a6b822f4317f6008ef9"
          }
        },
        "3e7666553078431bb977d638ac2d35f7": {
          "model_module": "@jupyter-widgets/controls",
          "model_name": "HTMLModel",
          "model_module_version": "1.5.0",
          "state": {
            "_dom_classes": [],
            "_model_module": "@jupyter-widgets/controls",
            "_model_module_version": "1.5.0",
            "_model_name": "HTMLModel",
            "_view_count": null,
            "_view_module": "@jupyter-widgets/controls",
            "_view_module_version": "1.5.0",
            "_view_name": "HTMLView",
            "description": "",
            "description_tooltip": null,
            "layout": "IPY_MODEL_24f5c063c00248b4b4cc0b43446e843f",
            "placeholder": "​",
            "style": "IPY_MODEL_79e5660c110b4c9eb1810e70b9d95575",
            "value": "config.json: 100%"
          }
        },
        "e03f648f527046dcac4d1cc91a1a635e": {
          "model_module": "@jupyter-widgets/controls",
          "model_name": "FloatProgressModel",
          "model_module_version": "1.5.0",
          "state": {
            "_dom_classes": [],
            "_model_module": "@jupyter-widgets/controls",
            "_model_module_version": "1.5.0",
            "_model_name": "FloatProgressModel",
            "_view_count": null,
            "_view_module": "@jupyter-widgets/controls",
            "_view_module_version": "1.5.0",
            "_view_name": "ProgressView",
            "bar_style": "success",
            "description": "",
            "description_tooltip": null,
            "layout": "IPY_MODEL_fbcf6fa06dea4688be5cf5ce6729c0f0",
            "max": 625,
            "min": 0,
            "orientation": "horizontal",
            "style": "IPY_MODEL_ceb83741fe1140ac8162b69703476edb",
            "value": 625
          }
        },
        "6045650bb7c74a43a0d6f927dc8b7ee0": {
          "model_module": "@jupyter-widgets/controls",
          "model_name": "HTMLModel",
          "model_module_version": "1.5.0",
          "state": {
            "_dom_classes": [],
            "_model_module": "@jupyter-widgets/controls",
            "_model_module_version": "1.5.0",
            "_model_name": "HTMLModel",
            "_view_count": null,
            "_view_module": "@jupyter-widgets/controls",
            "_view_module_version": "1.5.0",
            "_view_name": "HTMLView",
            "description": "",
            "description_tooltip": null,
            "layout": "IPY_MODEL_b874c8ef7dc04d3a8c91c1096d3cbdd2",
            "placeholder": "​",
            "style": "IPY_MODEL_936f3cb7137449a0bdf4a1a82b46276e",
            "value": " 625/625 [00:00&lt;00:00, 6.15kB/s]"
          }
        },
        "10758efb6a834a6b822f4317f6008ef9": {
          "model_module": "@jupyter-widgets/base",
          "model_name": "LayoutModel",
          "model_module_version": "1.2.0",
          "state": {
            "_model_module": "@jupyter-widgets/base",
            "_model_module_version": "1.2.0",
            "_model_name": "LayoutModel",
            "_view_count": null,
            "_view_module": "@jupyter-widgets/base",
            "_view_module_version": "1.2.0",
            "_view_name": "LayoutView",
            "align_content": null,
            "align_items": null,
            "align_self": null,
            "border": null,
            "bottom": null,
            "display": null,
            "flex": null,
            "flex_flow": null,
            "grid_area": null,
            "grid_auto_columns": null,
            "grid_auto_flow": null,
            "grid_auto_rows": null,
            "grid_column": null,
            "grid_gap": null,
            "grid_row": null,
            "grid_template_areas": null,
            "grid_template_columns": null,
            "grid_template_rows": null,
            "height": null,
            "justify_content": null,
            "justify_items": null,
            "left": null,
            "margin": null,
            "max_height": null,
            "max_width": null,
            "min_height": null,
            "min_width": null,
            "object_fit": null,
            "object_position": null,
            "order": null,
            "overflow": null,
            "overflow_x": null,
            "overflow_y": null,
            "padding": null,
            "right": null,
            "top": null,
            "visibility": null,
            "width": null
          }
        },
        "24f5c063c00248b4b4cc0b43446e843f": {
          "model_module": "@jupyter-widgets/base",
          "model_name": "LayoutModel",
          "model_module_version": "1.2.0",
          "state": {
            "_model_module": "@jupyter-widgets/base",
            "_model_module_version": "1.2.0",
            "_model_name": "LayoutModel",
            "_view_count": null,
            "_view_module": "@jupyter-widgets/base",
            "_view_module_version": "1.2.0",
            "_view_name": "LayoutView",
            "align_content": null,
            "align_items": null,
            "align_self": null,
            "border": null,
            "bottom": null,
            "display": null,
            "flex": null,
            "flex_flow": null,
            "grid_area": null,
            "grid_auto_columns": null,
            "grid_auto_flow": null,
            "grid_auto_rows": null,
            "grid_column": null,
            "grid_gap": null,
            "grid_row": null,
            "grid_template_areas": null,
            "grid_template_columns": null,
            "grid_template_rows": null,
            "height": null,
            "justify_content": null,
            "justify_items": null,
            "left": null,
            "margin": null,
            "max_height": null,
            "max_width": null,
            "min_height": null,
            "min_width": null,
            "object_fit": null,
            "object_position": null,
            "order": null,
            "overflow": null,
            "overflow_x": null,
            "overflow_y": null,
            "padding": null,
            "right": null,
            "top": null,
            "visibility": null,
            "width": null
          }
        },
        "79e5660c110b4c9eb1810e70b9d95575": {
          "model_module": "@jupyter-widgets/controls",
          "model_name": "DescriptionStyleModel",
          "model_module_version": "1.5.0",
          "state": {
            "_model_module": "@jupyter-widgets/controls",
            "_model_module_version": "1.5.0",
            "_model_name": "DescriptionStyleModel",
            "_view_count": null,
            "_view_module": "@jupyter-widgets/base",
            "_view_module_version": "1.2.0",
            "_view_name": "StyleView",
            "description_width": ""
          }
        },
        "fbcf6fa06dea4688be5cf5ce6729c0f0": {
          "model_module": "@jupyter-widgets/base",
          "model_name": "LayoutModel",
          "model_module_version": "1.2.0",
          "state": {
            "_model_module": "@jupyter-widgets/base",
            "_model_module_version": "1.2.0",
            "_model_name": "LayoutModel",
            "_view_count": null,
            "_view_module": "@jupyter-widgets/base",
            "_view_module_version": "1.2.0",
            "_view_name": "LayoutView",
            "align_content": null,
            "align_items": null,
            "align_self": null,
            "border": null,
            "bottom": null,
            "display": null,
            "flex": null,
            "flex_flow": null,
            "grid_area": null,
            "grid_auto_columns": null,
            "grid_auto_flow": null,
            "grid_auto_rows": null,
            "grid_column": null,
            "grid_gap": null,
            "grid_row": null,
            "grid_template_areas": null,
            "grid_template_columns": null,
            "grid_template_rows": null,
            "height": null,
            "justify_content": null,
            "justify_items": null,
            "left": null,
            "margin": null,
            "max_height": null,
            "max_width": null,
            "min_height": null,
            "min_width": null,
            "object_fit": null,
            "object_position": null,
            "order": null,
            "overflow": null,
            "overflow_x": null,
            "overflow_y": null,
            "padding": null,
            "right": null,
            "top": null,
            "visibility": null,
            "width": null
          }
        },
        "ceb83741fe1140ac8162b69703476edb": {
          "model_module": "@jupyter-widgets/controls",
          "model_name": "ProgressStyleModel",
          "model_module_version": "1.5.0",
          "state": {
            "_model_module": "@jupyter-widgets/controls",
            "_model_module_version": "1.5.0",
            "_model_name": "ProgressStyleModel",
            "_view_count": null,
            "_view_module": "@jupyter-widgets/base",
            "_view_module_version": "1.2.0",
            "_view_name": "StyleView",
            "bar_color": null,
            "description_width": ""
          }
        },
        "b874c8ef7dc04d3a8c91c1096d3cbdd2": {
          "model_module": "@jupyter-widgets/base",
          "model_name": "LayoutModel",
          "model_module_version": "1.2.0",
          "state": {
            "_model_module": "@jupyter-widgets/base",
            "_model_module_version": "1.2.0",
            "_model_name": "LayoutModel",
            "_view_count": null,
            "_view_module": "@jupyter-widgets/base",
            "_view_module_version": "1.2.0",
            "_view_name": "LayoutView",
            "align_content": null,
            "align_items": null,
            "align_self": null,
            "border": null,
            "bottom": null,
            "display": null,
            "flex": null,
            "flex_flow": null,
            "grid_area": null,
            "grid_auto_columns": null,
            "grid_auto_flow": null,
            "grid_auto_rows": null,
            "grid_column": null,
            "grid_gap": null,
            "grid_row": null,
            "grid_template_areas": null,
            "grid_template_columns": null,
            "grid_template_rows": null,
            "height": null,
            "justify_content": null,
            "justify_items": null,
            "left": null,
            "margin": null,
            "max_height": null,
            "max_width": null,
            "min_height": null,
            "min_width": null,
            "object_fit": null,
            "object_position": null,
            "order": null,
            "overflow": null,
            "overflow_x": null,
            "overflow_y": null,
            "padding": null,
            "right": null,
            "top": null,
            "visibility": null,
            "width": null
          }
        },
        "936f3cb7137449a0bdf4a1a82b46276e": {
          "model_module": "@jupyter-widgets/controls",
          "model_name": "DescriptionStyleModel",
          "model_module_version": "1.5.0",
          "state": {
            "_model_module": "@jupyter-widgets/controls",
            "_model_module_version": "1.5.0",
            "_model_name": "DescriptionStyleModel",
            "_view_count": null,
            "_view_module": "@jupyter-widgets/base",
            "_view_module_version": "1.2.0",
            "_view_name": "StyleView",
            "description_width": ""
          }
        },
        "11113401e3aa4b3d8398aa2d7057bc5f": {
          "model_module": "@jupyter-widgets/controls",
          "model_name": "HBoxModel",
          "model_module_version": "1.5.0",
          "state": {
            "_dom_classes": [],
            "_model_module": "@jupyter-widgets/controls",
            "_model_module_version": "1.5.0",
            "_model_name": "HBoxModel",
            "_view_count": null,
            "_view_module": "@jupyter-widgets/controls",
            "_view_module_version": "1.5.0",
            "_view_name": "HBoxView",
            "box_style": "",
            "children": [
              "IPY_MODEL_fbe49c574a61499cb9aedacd19a65979",
              "IPY_MODEL_6622fc47dd9f4a0f8e24623628c65f65",
              "IPY_MODEL_f256a07e88634714a756b95f0eb5fe85"
            ],
            "layout": "IPY_MODEL_1267bd04eee04687a298961ccc7517ff"
          }
        },
        "fbe49c574a61499cb9aedacd19a65979": {
          "model_module": "@jupyter-widgets/controls",
          "model_name": "HTMLModel",
          "model_module_version": "1.5.0",
          "state": {
            "_dom_classes": [],
            "_model_module": "@jupyter-widgets/controls",
            "_model_module_version": "1.5.0",
            "_model_name": "HTMLModel",
            "_view_count": null,
            "_view_module": "@jupyter-widgets/controls",
            "_view_module_version": "1.5.0",
            "_view_name": "HTMLView",
            "description": "",
            "description_tooltip": null,
            "layout": "IPY_MODEL_0eba9c9420e04858b37813ad410b6808",
            "placeholder": "​",
            "style": "IPY_MODEL_ec679c90bb1b45a09c8555ff15e5460d",
            "value": "vocab.txt: 100%"
          }
        },
        "6622fc47dd9f4a0f8e24623628c65f65": {
          "model_module": "@jupyter-widgets/controls",
          "model_name": "FloatProgressModel",
          "model_module_version": "1.5.0",
          "state": {
            "_dom_classes": [],
            "_model_module": "@jupyter-widgets/controls",
            "_model_module_version": "1.5.0",
            "_model_name": "FloatProgressModel",
            "_view_count": null,
            "_view_module": "@jupyter-widgets/controls",
            "_view_module_version": "1.5.0",
            "_view_name": "ProgressView",
            "bar_style": "success",
            "description": "",
            "description_tooltip": null,
            "layout": "IPY_MODEL_2d349b5102764f8ca64236755b15ed19",
            "max": 995526,
            "min": 0,
            "orientation": "horizontal",
            "style": "IPY_MODEL_f8f43f356a5c40d4a3e7345766cc9931",
            "value": 995526
          }
        },
        "f256a07e88634714a756b95f0eb5fe85": {
          "model_module": "@jupyter-widgets/controls",
          "model_name": "HTMLModel",
          "model_module_version": "1.5.0",
          "state": {
            "_dom_classes": [],
            "_model_module": "@jupyter-widgets/controls",
            "_model_module_version": "1.5.0",
            "_model_name": "HTMLModel",
            "_view_count": null,
            "_view_module": "@jupyter-widgets/controls",
            "_view_module_version": "1.5.0",
            "_view_name": "HTMLView",
            "description": "",
            "description_tooltip": null,
            "layout": "IPY_MODEL_749fcace8f18482d8860a1f6b8ecf6e6",
            "placeholder": "​",
            "style": "IPY_MODEL_dcd9293342564c8e8fd5075908be923f",
            "value": " 996k/996k [00:00&lt;00:00, 1.28MB/s]"
          }
        },
        "1267bd04eee04687a298961ccc7517ff": {
          "model_module": "@jupyter-widgets/base",
          "model_name": "LayoutModel",
          "model_module_version": "1.2.0",
          "state": {
            "_model_module": "@jupyter-widgets/base",
            "_model_module_version": "1.2.0",
            "_model_name": "LayoutModel",
            "_view_count": null,
            "_view_module": "@jupyter-widgets/base",
            "_view_module_version": "1.2.0",
            "_view_name": "LayoutView",
            "align_content": null,
            "align_items": null,
            "align_self": null,
            "border": null,
            "bottom": null,
            "display": null,
            "flex": null,
            "flex_flow": null,
            "grid_area": null,
            "grid_auto_columns": null,
            "grid_auto_flow": null,
            "grid_auto_rows": null,
            "grid_column": null,
            "grid_gap": null,
            "grid_row": null,
            "grid_template_areas": null,
            "grid_template_columns": null,
            "grid_template_rows": null,
            "height": null,
            "justify_content": null,
            "justify_items": null,
            "left": null,
            "margin": null,
            "max_height": null,
            "max_width": null,
            "min_height": null,
            "min_width": null,
            "object_fit": null,
            "object_position": null,
            "order": null,
            "overflow": null,
            "overflow_x": null,
            "overflow_y": null,
            "padding": null,
            "right": null,
            "top": null,
            "visibility": null,
            "width": null
          }
        },
        "0eba9c9420e04858b37813ad410b6808": {
          "model_module": "@jupyter-widgets/base",
          "model_name": "LayoutModel",
          "model_module_version": "1.2.0",
          "state": {
            "_model_module": "@jupyter-widgets/base",
            "_model_module_version": "1.2.0",
            "_model_name": "LayoutModel",
            "_view_count": null,
            "_view_module": "@jupyter-widgets/base",
            "_view_module_version": "1.2.0",
            "_view_name": "LayoutView",
            "align_content": null,
            "align_items": null,
            "align_self": null,
            "border": null,
            "bottom": null,
            "display": null,
            "flex": null,
            "flex_flow": null,
            "grid_area": null,
            "grid_auto_columns": null,
            "grid_auto_flow": null,
            "grid_auto_rows": null,
            "grid_column": null,
            "grid_gap": null,
            "grid_row": null,
            "grid_template_areas": null,
            "grid_template_columns": null,
            "grid_template_rows": null,
            "height": null,
            "justify_content": null,
            "justify_items": null,
            "left": null,
            "margin": null,
            "max_height": null,
            "max_width": null,
            "min_height": null,
            "min_width": null,
            "object_fit": null,
            "object_position": null,
            "order": null,
            "overflow": null,
            "overflow_x": null,
            "overflow_y": null,
            "padding": null,
            "right": null,
            "top": null,
            "visibility": null,
            "width": null
          }
        },
        "ec679c90bb1b45a09c8555ff15e5460d": {
          "model_module": "@jupyter-widgets/controls",
          "model_name": "DescriptionStyleModel",
          "model_module_version": "1.5.0",
          "state": {
            "_model_module": "@jupyter-widgets/controls",
            "_model_module_version": "1.5.0",
            "_model_name": "DescriptionStyleModel",
            "_view_count": null,
            "_view_module": "@jupyter-widgets/base",
            "_view_module_version": "1.2.0",
            "_view_name": "StyleView",
            "description_width": ""
          }
        },
        "2d349b5102764f8ca64236755b15ed19": {
          "model_module": "@jupyter-widgets/base",
          "model_name": "LayoutModel",
          "model_module_version": "1.2.0",
          "state": {
            "_model_module": "@jupyter-widgets/base",
            "_model_module_version": "1.2.0",
            "_model_name": "LayoutModel",
            "_view_count": null,
            "_view_module": "@jupyter-widgets/base",
            "_view_module_version": "1.2.0",
            "_view_name": "LayoutView",
            "align_content": null,
            "align_items": null,
            "align_self": null,
            "border": null,
            "bottom": null,
            "display": null,
            "flex": null,
            "flex_flow": null,
            "grid_area": null,
            "grid_auto_columns": null,
            "grid_auto_flow": null,
            "grid_auto_rows": null,
            "grid_column": null,
            "grid_gap": null,
            "grid_row": null,
            "grid_template_areas": null,
            "grid_template_columns": null,
            "grid_template_rows": null,
            "height": null,
            "justify_content": null,
            "justify_items": null,
            "left": null,
            "margin": null,
            "max_height": null,
            "max_width": null,
            "min_height": null,
            "min_width": null,
            "object_fit": null,
            "object_position": null,
            "order": null,
            "overflow": null,
            "overflow_x": null,
            "overflow_y": null,
            "padding": null,
            "right": null,
            "top": null,
            "visibility": null,
            "width": null
          }
        },
        "f8f43f356a5c40d4a3e7345766cc9931": {
          "model_module": "@jupyter-widgets/controls",
          "model_name": "ProgressStyleModel",
          "model_module_version": "1.5.0",
          "state": {
            "_model_module": "@jupyter-widgets/controls",
            "_model_module_version": "1.5.0",
            "_model_name": "ProgressStyleModel",
            "_view_count": null,
            "_view_module": "@jupyter-widgets/base",
            "_view_module_version": "1.2.0",
            "_view_name": "StyleView",
            "bar_color": null,
            "description_width": ""
          }
        },
        "749fcace8f18482d8860a1f6b8ecf6e6": {
          "model_module": "@jupyter-widgets/base",
          "model_name": "LayoutModel",
          "model_module_version": "1.2.0",
          "state": {
            "_model_module": "@jupyter-widgets/base",
            "_model_module_version": "1.2.0",
            "_model_name": "LayoutModel",
            "_view_count": null,
            "_view_module": "@jupyter-widgets/base",
            "_view_module_version": "1.2.0",
            "_view_name": "LayoutView",
            "align_content": null,
            "align_items": null,
            "align_self": null,
            "border": null,
            "bottom": null,
            "display": null,
            "flex": null,
            "flex_flow": null,
            "grid_area": null,
            "grid_auto_columns": null,
            "grid_auto_flow": null,
            "grid_auto_rows": null,
            "grid_column": null,
            "grid_gap": null,
            "grid_row": null,
            "grid_template_areas": null,
            "grid_template_columns": null,
            "grid_template_rows": null,
            "height": null,
            "justify_content": null,
            "justify_items": null,
            "left": null,
            "margin": null,
            "max_height": null,
            "max_width": null,
            "min_height": null,
            "min_width": null,
            "object_fit": null,
            "object_position": null,
            "order": null,
            "overflow": null,
            "overflow_x": null,
            "overflow_y": null,
            "padding": null,
            "right": null,
            "top": null,
            "visibility": null,
            "width": null
          }
        },
        "dcd9293342564c8e8fd5075908be923f": {
          "model_module": "@jupyter-widgets/controls",
          "model_name": "DescriptionStyleModel",
          "model_module_version": "1.5.0",
          "state": {
            "_model_module": "@jupyter-widgets/controls",
            "_model_module_version": "1.5.0",
            "_model_name": "DescriptionStyleModel",
            "_view_count": null,
            "_view_module": "@jupyter-widgets/base",
            "_view_module_version": "1.2.0",
            "_view_name": "StyleView",
            "description_width": ""
          }
        },
        "126d0f290e5b4d46bf162f6fdb2f12cb": {
          "model_module": "@jupyter-widgets/controls",
          "model_name": "HBoxModel",
          "model_module_version": "1.5.0",
          "state": {
            "_dom_classes": [],
            "_model_module": "@jupyter-widgets/controls",
            "_model_module_version": "1.5.0",
            "_model_name": "HBoxModel",
            "_view_count": null,
            "_view_module": "@jupyter-widgets/controls",
            "_view_module_version": "1.5.0",
            "_view_name": "HBoxView",
            "box_style": "",
            "children": [
              "IPY_MODEL_da0f05d22f5f45d49d6a2805539428de",
              "IPY_MODEL_7c8d6b1ae70147c78f2509db167fa956",
              "IPY_MODEL_09600f7710c54f37975c663438e02310"
            ],
            "layout": "IPY_MODEL_d6d6c2bf2ec84c6c997f9be51ac97638"
          }
        },
        "da0f05d22f5f45d49d6a2805539428de": {
          "model_module": "@jupyter-widgets/controls",
          "model_name": "HTMLModel",
          "model_module_version": "1.5.0",
          "state": {
            "_dom_classes": [],
            "_model_module": "@jupyter-widgets/controls",
            "_model_module_version": "1.5.0",
            "_model_name": "HTMLModel",
            "_view_count": null,
            "_view_module": "@jupyter-widgets/controls",
            "_view_module_version": "1.5.0",
            "_view_name": "HTMLView",
            "description": "",
            "description_tooltip": null,
            "layout": "IPY_MODEL_8a31e9b299eb49b88fd6efad2ffebfb8",
            "placeholder": "​",
            "style": "IPY_MODEL_0978eba146ec443f85c8679decd5d9f6",
            "value": "tokenizer.json: 100%"
          }
        },
        "7c8d6b1ae70147c78f2509db167fa956": {
          "model_module": "@jupyter-widgets/controls",
          "model_name": "FloatProgressModel",
          "model_module_version": "1.5.0",
          "state": {
            "_dom_classes": [],
            "_model_module": "@jupyter-widgets/controls",
            "_model_module_version": "1.5.0",
            "_model_name": "FloatProgressModel",
            "_view_count": null,
            "_view_module": "@jupyter-widgets/controls",
            "_view_module_version": "1.5.0",
            "_view_name": "ProgressView",
            "bar_style": "success",
            "description": "",
            "description_tooltip": null,
            "layout": "IPY_MODEL_71e4ce0d2ca34c4cb7971fabd9a95e61",
            "max": 1961828,
            "min": 0,
            "orientation": "horizontal",
            "style": "IPY_MODEL_dfe698948f6b43c380b59c6564f6b6e9",
            "value": 1961828
          }
        },
        "09600f7710c54f37975c663438e02310": {
          "model_module": "@jupyter-widgets/controls",
          "model_name": "HTMLModel",
          "model_module_version": "1.5.0",
          "state": {
            "_dom_classes": [],
            "_model_module": "@jupyter-widgets/controls",
            "_model_module_version": "1.5.0",
            "_model_name": "HTMLModel",
            "_view_count": null,
            "_view_module": "@jupyter-widgets/controls",
            "_view_module_version": "1.5.0",
            "_view_name": "HTMLView",
            "description": "",
            "description_tooltip": null,
            "layout": "IPY_MODEL_034be07b7d764d18a4c2fa44de84f348",
            "placeholder": "​",
            "style": "IPY_MODEL_bc5db6614b0941519042972aa94360b7",
            "value": " 1.96M/1.96M [00:00&lt;00:00, 2.01MB/s]"
          }
        },
        "d6d6c2bf2ec84c6c997f9be51ac97638": {
          "model_module": "@jupyter-widgets/base",
          "model_name": "LayoutModel",
          "model_module_version": "1.2.0",
          "state": {
            "_model_module": "@jupyter-widgets/base",
            "_model_module_version": "1.2.0",
            "_model_name": "LayoutModel",
            "_view_count": null,
            "_view_module": "@jupyter-widgets/base",
            "_view_module_version": "1.2.0",
            "_view_name": "LayoutView",
            "align_content": null,
            "align_items": null,
            "align_self": null,
            "border": null,
            "bottom": null,
            "display": null,
            "flex": null,
            "flex_flow": null,
            "grid_area": null,
            "grid_auto_columns": null,
            "grid_auto_flow": null,
            "grid_auto_rows": null,
            "grid_column": null,
            "grid_gap": null,
            "grid_row": null,
            "grid_template_areas": null,
            "grid_template_columns": null,
            "grid_template_rows": null,
            "height": null,
            "justify_content": null,
            "justify_items": null,
            "left": null,
            "margin": null,
            "max_height": null,
            "max_width": null,
            "min_height": null,
            "min_width": null,
            "object_fit": null,
            "object_position": null,
            "order": null,
            "overflow": null,
            "overflow_x": null,
            "overflow_y": null,
            "padding": null,
            "right": null,
            "top": null,
            "visibility": null,
            "width": null
          }
        },
        "8a31e9b299eb49b88fd6efad2ffebfb8": {
          "model_module": "@jupyter-widgets/base",
          "model_name": "LayoutModel",
          "model_module_version": "1.2.0",
          "state": {
            "_model_module": "@jupyter-widgets/base",
            "_model_module_version": "1.2.0",
            "_model_name": "LayoutModel",
            "_view_count": null,
            "_view_module": "@jupyter-widgets/base",
            "_view_module_version": "1.2.0",
            "_view_name": "LayoutView",
            "align_content": null,
            "align_items": null,
            "align_self": null,
            "border": null,
            "bottom": null,
            "display": null,
            "flex": null,
            "flex_flow": null,
            "grid_area": null,
            "grid_auto_columns": null,
            "grid_auto_flow": null,
            "grid_auto_rows": null,
            "grid_column": null,
            "grid_gap": null,
            "grid_row": null,
            "grid_template_areas": null,
            "grid_template_columns": null,
            "grid_template_rows": null,
            "height": null,
            "justify_content": null,
            "justify_items": null,
            "left": null,
            "margin": null,
            "max_height": null,
            "max_width": null,
            "min_height": null,
            "min_width": null,
            "object_fit": null,
            "object_position": null,
            "order": null,
            "overflow": null,
            "overflow_x": null,
            "overflow_y": null,
            "padding": null,
            "right": null,
            "top": null,
            "visibility": null,
            "width": null
          }
        },
        "0978eba146ec443f85c8679decd5d9f6": {
          "model_module": "@jupyter-widgets/controls",
          "model_name": "DescriptionStyleModel",
          "model_module_version": "1.5.0",
          "state": {
            "_model_module": "@jupyter-widgets/controls",
            "_model_module_version": "1.5.0",
            "_model_name": "DescriptionStyleModel",
            "_view_count": null,
            "_view_module": "@jupyter-widgets/base",
            "_view_module_version": "1.2.0",
            "_view_name": "StyleView",
            "description_width": ""
          }
        },
        "71e4ce0d2ca34c4cb7971fabd9a95e61": {
          "model_module": "@jupyter-widgets/base",
          "model_name": "LayoutModel",
          "model_module_version": "1.2.0",
          "state": {
            "_model_module": "@jupyter-widgets/base",
            "_model_module_version": "1.2.0",
            "_model_name": "LayoutModel",
            "_view_count": null,
            "_view_module": "@jupyter-widgets/base",
            "_view_module_version": "1.2.0",
            "_view_name": "LayoutView",
            "align_content": null,
            "align_items": null,
            "align_self": null,
            "border": null,
            "bottom": null,
            "display": null,
            "flex": null,
            "flex_flow": null,
            "grid_area": null,
            "grid_auto_columns": null,
            "grid_auto_flow": null,
            "grid_auto_rows": null,
            "grid_column": null,
            "grid_gap": null,
            "grid_row": null,
            "grid_template_areas": null,
            "grid_template_columns": null,
            "grid_template_rows": null,
            "height": null,
            "justify_content": null,
            "justify_items": null,
            "left": null,
            "margin": null,
            "max_height": null,
            "max_width": null,
            "min_height": null,
            "min_width": null,
            "object_fit": null,
            "object_position": null,
            "order": null,
            "overflow": null,
            "overflow_x": null,
            "overflow_y": null,
            "padding": null,
            "right": null,
            "top": null,
            "visibility": null,
            "width": null
          }
        },
        "dfe698948f6b43c380b59c6564f6b6e9": {
          "model_module": "@jupyter-widgets/controls",
          "model_name": "ProgressStyleModel",
          "model_module_version": "1.5.0",
          "state": {
            "_model_module": "@jupyter-widgets/controls",
            "_model_module_version": "1.5.0",
            "_model_name": "ProgressStyleModel",
            "_view_count": null,
            "_view_module": "@jupyter-widgets/base",
            "_view_module_version": "1.2.0",
            "_view_name": "StyleView",
            "bar_color": null,
            "description_width": ""
          }
        },
        "034be07b7d764d18a4c2fa44de84f348": {
          "model_module": "@jupyter-widgets/base",
          "model_name": "LayoutModel",
          "model_module_version": "1.2.0",
          "state": {
            "_model_module": "@jupyter-widgets/base",
            "_model_module_version": "1.2.0",
            "_model_name": "LayoutModel",
            "_view_count": null,
            "_view_module": "@jupyter-widgets/base",
            "_view_module_version": "1.2.0",
            "_view_name": "LayoutView",
            "align_content": null,
            "align_items": null,
            "align_self": null,
            "border": null,
            "bottom": null,
            "display": null,
            "flex": null,
            "flex_flow": null,
            "grid_area": null,
            "grid_auto_columns": null,
            "grid_auto_flow": null,
            "grid_auto_rows": null,
            "grid_column": null,
            "grid_gap": null,
            "grid_row": null,
            "grid_template_areas": null,
            "grid_template_columns": null,
            "grid_template_rows": null,
            "height": null,
            "justify_content": null,
            "justify_items": null,
            "left": null,
            "margin": null,
            "max_height": null,
            "max_width": null,
            "min_height": null,
            "min_width": null,
            "object_fit": null,
            "object_position": null,
            "order": null,
            "overflow": null,
            "overflow_x": null,
            "overflow_y": null,
            "padding": null,
            "right": null,
            "top": null,
            "visibility": null,
            "width": null
          }
        },
        "bc5db6614b0941519042972aa94360b7": {
          "model_module": "@jupyter-widgets/controls",
          "model_name": "DescriptionStyleModel",
          "model_module_version": "1.5.0",
          "state": {
            "_model_module": "@jupyter-widgets/controls",
            "_model_module_version": "1.5.0",
            "_model_name": "DescriptionStyleModel",
            "_view_count": null,
            "_view_module": "@jupyter-widgets/base",
            "_view_module_version": "1.2.0",
            "_view_name": "StyleView",
            "description_width": ""
          }
        },
        "73e86752e13b4a9aa43bef0c6c96a317": {
          "model_module": "@jupyter-widgets/controls",
          "model_name": "HBoxModel",
          "model_module_version": "1.5.0",
          "state": {
            "_dom_classes": [],
            "_model_module": "@jupyter-widgets/controls",
            "_model_module_version": "1.5.0",
            "_model_name": "HBoxModel",
            "_view_count": null,
            "_view_module": "@jupyter-widgets/controls",
            "_view_module_version": "1.5.0",
            "_view_name": "HBoxView",
            "box_style": "",
            "children": [
              "IPY_MODEL_84417ef94cca4af784fbb34304df816b",
              "IPY_MODEL_797fe0f70acc4940b8259f702e0d3b20",
              "IPY_MODEL_3bb64ee70d6044a8a5c61b5c15e15bda"
            ],
            "layout": "IPY_MODEL_0f3202d4e59f4d1182cebac9175c712b"
          }
        },
        "84417ef94cca4af784fbb34304df816b": {
          "model_module": "@jupyter-widgets/controls",
          "model_name": "HTMLModel",
          "model_module_version": "1.5.0",
          "state": {
            "_dom_classes": [],
            "_model_module": "@jupyter-widgets/controls",
            "_model_module_version": "1.5.0",
            "_model_name": "HTMLModel",
            "_view_count": null,
            "_view_module": "@jupyter-widgets/controls",
            "_view_module_version": "1.5.0",
            "_view_name": "HTMLView",
            "description": "",
            "description_tooltip": null,
            "layout": "IPY_MODEL_e87ce861e92c415096767cc2479dfa51",
            "placeholder": "​",
            "style": "IPY_MODEL_cf8048064ab84525a127b3faa74b6f74",
            "value": "model.safetensors: 100%"
          }
        },
        "797fe0f70acc4940b8259f702e0d3b20": {
          "model_module": "@jupyter-widgets/controls",
          "model_name": "FloatProgressModel",
          "model_module_version": "1.5.0",
          "state": {
            "_dom_classes": [],
            "_model_module": "@jupyter-widgets/controls",
            "_model_module_version": "1.5.0",
            "_model_name": "FloatProgressModel",
            "_view_count": null,
            "_view_module": "@jupyter-widgets/controls",
            "_view_module_version": "1.5.0",
            "_view_name": "ProgressView",
            "bar_style": "success",
            "description": "",
            "description_tooltip": null,
            "layout": "IPY_MODEL_8defde108ce1415cae0a77cc2b42ce4a",
            "max": 714290682,
            "min": 0,
            "orientation": "horizontal",
            "style": "IPY_MODEL_4130c8cf3179469ab4eb2a1177f51027",
            "value": 714290682
          }
        },
        "3bb64ee70d6044a8a5c61b5c15e15bda": {
          "model_module": "@jupyter-widgets/controls",
          "model_name": "HTMLModel",
          "model_module_version": "1.5.0",
          "state": {
            "_dom_classes": [],
            "_model_module": "@jupyter-widgets/controls",
            "_model_module_version": "1.5.0",
            "_model_name": "HTMLModel",
            "_view_count": null,
            "_view_module": "@jupyter-widgets/controls",
            "_view_module_version": "1.5.0",
            "_view_name": "HTMLView",
            "description": "",
            "description_tooltip": null,
            "layout": "IPY_MODEL_8a1281eefc104ca6b278acdfd3dcc204",
            "placeholder": "​",
            "style": "IPY_MODEL_7b747a98958d4438aa8988b3cc18b662",
            "value": " 714M/714M [00:11&lt;00:00, 76.9MB/s]"
          }
        },
        "0f3202d4e59f4d1182cebac9175c712b": {
          "model_module": "@jupyter-widgets/base",
          "model_name": "LayoutModel",
          "model_module_version": "1.2.0",
          "state": {
            "_model_module": "@jupyter-widgets/base",
            "_model_module_version": "1.2.0",
            "_model_name": "LayoutModel",
            "_view_count": null,
            "_view_module": "@jupyter-widgets/base",
            "_view_module_version": "1.2.0",
            "_view_name": "LayoutView",
            "align_content": null,
            "align_items": null,
            "align_self": null,
            "border": null,
            "bottom": null,
            "display": null,
            "flex": null,
            "flex_flow": null,
            "grid_area": null,
            "grid_auto_columns": null,
            "grid_auto_flow": null,
            "grid_auto_rows": null,
            "grid_column": null,
            "grid_gap": null,
            "grid_row": null,
            "grid_template_areas": null,
            "grid_template_columns": null,
            "grid_template_rows": null,
            "height": null,
            "justify_content": null,
            "justify_items": null,
            "left": null,
            "margin": null,
            "max_height": null,
            "max_width": null,
            "min_height": null,
            "min_width": null,
            "object_fit": null,
            "object_position": null,
            "order": null,
            "overflow": null,
            "overflow_x": null,
            "overflow_y": null,
            "padding": null,
            "right": null,
            "top": null,
            "visibility": null,
            "width": null
          }
        },
        "e87ce861e92c415096767cc2479dfa51": {
          "model_module": "@jupyter-widgets/base",
          "model_name": "LayoutModel",
          "model_module_version": "1.2.0",
          "state": {
            "_model_module": "@jupyter-widgets/base",
            "_model_module_version": "1.2.0",
            "_model_name": "LayoutModel",
            "_view_count": null,
            "_view_module": "@jupyter-widgets/base",
            "_view_module_version": "1.2.0",
            "_view_name": "LayoutView",
            "align_content": null,
            "align_items": null,
            "align_self": null,
            "border": null,
            "bottom": null,
            "display": null,
            "flex": null,
            "flex_flow": null,
            "grid_area": null,
            "grid_auto_columns": null,
            "grid_auto_flow": null,
            "grid_auto_rows": null,
            "grid_column": null,
            "grid_gap": null,
            "grid_row": null,
            "grid_template_areas": null,
            "grid_template_columns": null,
            "grid_template_rows": null,
            "height": null,
            "justify_content": null,
            "justify_items": null,
            "left": null,
            "margin": null,
            "max_height": null,
            "max_width": null,
            "min_height": null,
            "min_width": null,
            "object_fit": null,
            "object_position": null,
            "order": null,
            "overflow": null,
            "overflow_x": null,
            "overflow_y": null,
            "padding": null,
            "right": null,
            "top": null,
            "visibility": null,
            "width": null
          }
        },
        "cf8048064ab84525a127b3faa74b6f74": {
          "model_module": "@jupyter-widgets/controls",
          "model_name": "DescriptionStyleModel",
          "model_module_version": "1.5.0",
          "state": {
            "_model_module": "@jupyter-widgets/controls",
            "_model_module_version": "1.5.0",
            "_model_name": "DescriptionStyleModel",
            "_view_count": null,
            "_view_module": "@jupyter-widgets/base",
            "_view_module_version": "1.2.0",
            "_view_name": "StyleView",
            "description_width": ""
          }
        },
        "8defde108ce1415cae0a77cc2b42ce4a": {
          "model_module": "@jupyter-widgets/base",
          "model_name": "LayoutModel",
          "model_module_version": "1.2.0",
          "state": {
            "_model_module": "@jupyter-widgets/base",
            "_model_module_version": "1.2.0",
            "_model_name": "LayoutModel",
            "_view_count": null,
            "_view_module": "@jupyter-widgets/base",
            "_view_module_version": "1.2.0",
            "_view_name": "LayoutView",
            "align_content": null,
            "align_items": null,
            "align_self": null,
            "border": null,
            "bottom": null,
            "display": null,
            "flex": null,
            "flex_flow": null,
            "grid_area": null,
            "grid_auto_columns": null,
            "grid_auto_flow": null,
            "grid_auto_rows": null,
            "grid_column": null,
            "grid_gap": null,
            "grid_row": null,
            "grid_template_areas": null,
            "grid_template_columns": null,
            "grid_template_rows": null,
            "height": null,
            "justify_content": null,
            "justify_items": null,
            "left": null,
            "margin": null,
            "max_height": null,
            "max_width": null,
            "min_height": null,
            "min_width": null,
            "object_fit": null,
            "object_position": null,
            "order": null,
            "overflow": null,
            "overflow_x": null,
            "overflow_y": null,
            "padding": null,
            "right": null,
            "top": null,
            "visibility": null,
            "width": null
          }
        },
        "4130c8cf3179469ab4eb2a1177f51027": {
          "model_module": "@jupyter-widgets/controls",
          "model_name": "ProgressStyleModel",
          "model_module_version": "1.5.0",
          "state": {
            "_model_module": "@jupyter-widgets/controls",
            "_model_module_version": "1.5.0",
            "_model_name": "ProgressStyleModel",
            "_view_count": null,
            "_view_module": "@jupyter-widgets/base",
            "_view_module_version": "1.2.0",
            "_view_name": "StyleView",
            "bar_color": null,
            "description_width": ""
          }
        },
        "8a1281eefc104ca6b278acdfd3dcc204": {
          "model_module": "@jupyter-widgets/base",
          "model_name": "LayoutModel",
          "model_module_version": "1.2.0",
          "state": {
            "_model_module": "@jupyter-widgets/base",
            "_model_module_version": "1.2.0",
            "_model_name": "LayoutModel",
            "_view_count": null,
            "_view_module": "@jupyter-widgets/base",
            "_view_module_version": "1.2.0",
            "_view_name": "LayoutView",
            "align_content": null,
            "align_items": null,
            "align_self": null,
            "border": null,
            "bottom": null,
            "display": null,
            "flex": null,
            "flex_flow": null,
            "grid_area": null,
            "grid_auto_columns": null,
            "grid_auto_flow": null,
            "grid_auto_rows": null,
            "grid_column": null,
            "grid_gap": null,
            "grid_row": null,
            "grid_template_areas": null,
            "grid_template_columns": null,
            "grid_template_rows": null,
            "height": null,
            "justify_content": null,
            "justify_items": null,
            "left": null,
            "margin": null,
            "max_height": null,
            "max_width": null,
            "min_height": null,
            "min_width": null,
            "object_fit": null,
            "object_position": null,
            "order": null,
            "overflow": null,
            "overflow_x": null,
            "overflow_y": null,
            "padding": null,
            "right": null,
            "top": null,
            "visibility": null,
            "width": null
          }
        },
        "7b747a98958d4438aa8988b3cc18b662": {
          "model_module": "@jupyter-widgets/controls",
          "model_name": "DescriptionStyleModel",
          "model_module_version": "1.5.0",
          "state": {
            "_model_module": "@jupyter-widgets/controls",
            "_model_module_version": "1.5.0",
            "_model_name": "DescriptionStyleModel",
            "_view_count": null,
            "_view_module": "@jupyter-widgets/base",
            "_view_module_version": "1.2.0",
            "_view_name": "StyleView",
            "description_width": ""
          }
        }
      }
    }
  },
  "cells": [
    {
      "cell_type": "markdown",
      "metadata": {
        "id": "view-in-github",
        "colab_type": "text"
      },
      "source": [
        "<a href=\"https://colab.research.google.com/github/amsalugetasew/Deployed_Models/blob/main/GERD_Sentiment_Analysis.ipynb\" target=\"_parent\"><img src=\"https://colab.research.google.com/assets/colab-badge.svg\" alt=\"Open In Colab\"/></a>"
      ]
    },
    {
      "cell_type": "code",
      "execution_count": 1,
      "metadata": {
        "id": "xVH8glaJwqll"
      },
      "outputs": [],
      "source": [
        "import re\n",
        "import pandas as pd\n",
        "\n",
        "def preprocess_tweet(tweet):\n",
        "    # Remove URLs\n",
        "    tweet = re.sub(r'http\\S+', '', tweet)\n",
        "\n",
        "    # Remove special symbols and emojis\n",
        "    tweet = re.sub(r'[^\\w\\s]', '', tweet)\n",
        "\n",
        "    # Remove numbers\n",
        "    tweet = re.sub(r'\\d+', '', tweet)\n",
        "\n",
        "    # Remove @usernames\n",
        "    tweet = re.sub(r'@\\w+', '', tweet)\n",
        "    tweet = re.sub(r'^RT[\\s]+', '', tweet)\n",
        "\n",
        "    # Remove leading and trailing whitespaces\n",
        "    tweet = tweet.strip()\n",
        "\n",
        "    return tweet\n",
        "\n",
        "# Apply the preprocessing function to the 'tweet' column of the data frame\n",
        "#df['tweet'] = df['tweet'].apply(preprocess_tweet)\n",
        "\n",
        "#print(df)"
      ]
    },
    {
      "cell_type": "code",
      "source": [
        "import pandas as pd\n",
        "data=pd.read_excel(\"/content/drive/MyDrive/GERD_Analysis/Total_mixed_data.xlsx\")\n",
        "data.head()"
      ],
      "metadata": {
        "colab": {
          "base_uri": "https://localhost:8080/",
          "height": 206
        },
        "id": "N9Z2mzhpxk9w",
        "outputId": "02ef0f60-32e6-494f-85e2-34f30c2bb6e7"
      },
      "execution_count": 27,
      "outputs": [
        {
          "output_type": "execute_result",
          "data": {
            "text/plain": [
              "   Unnamed: 0                                          full_text lang  \\\n",
              "0           0  Egypt, which relies heavily on the Nile River ...   en   \n",
              "1           1   Egypt fears that the dam's construction could...   en   \n",
              "2           2  Egypt has been opposed to the construction of ...   en   \n",
              "3           3  Sudan has also expressed concerns about the GE...   en   \n",
              "4           4  Sudan fears that the dam could lead to increas...   en   \n",
              "\n",
              "  Sentiment  \n",
              "0  Negative  \n",
              "1  Negative  \n",
              "2  Negative  \n",
              "3  Negative  \n",
              "4  Negative  "
            ],
            "text/html": [
              "\n",
              "  <div id=\"df-89ef8880-edc5-478a-9b56-5305cc79a22f\" class=\"colab-df-container\">\n",
              "    <div>\n",
              "<style scoped>\n",
              "    .dataframe tbody tr th:only-of-type {\n",
              "        vertical-align: middle;\n",
              "    }\n",
              "\n",
              "    .dataframe tbody tr th {\n",
              "        vertical-align: top;\n",
              "    }\n",
              "\n",
              "    .dataframe thead th {\n",
              "        text-align: right;\n",
              "    }\n",
              "</style>\n",
              "<table border=\"1\" class=\"dataframe\">\n",
              "  <thead>\n",
              "    <tr style=\"text-align: right;\">\n",
              "      <th></th>\n",
              "      <th>Unnamed: 0</th>\n",
              "      <th>full_text</th>\n",
              "      <th>lang</th>\n",
              "      <th>Sentiment</th>\n",
              "    </tr>\n",
              "  </thead>\n",
              "  <tbody>\n",
              "    <tr>\n",
              "      <th>0</th>\n",
              "      <td>0</td>\n",
              "      <td>Egypt, which relies heavily on the Nile River ...</td>\n",
              "      <td>en</td>\n",
              "      <td>Negative</td>\n",
              "    </tr>\n",
              "    <tr>\n",
              "      <th>1</th>\n",
              "      <td>1</td>\n",
              "      <td>Egypt fears that the dam's construction could...</td>\n",
              "      <td>en</td>\n",
              "      <td>Negative</td>\n",
              "    </tr>\n",
              "    <tr>\n",
              "      <th>2</th>\n",
              "      <td>2</td>\n",
              "      <td>Egypt has been opposed to the construction of ...</td>\n",
              "      <td>en</td>\n",
              "      <td>Negative</td>\n",
              "    </tr>\n",
              "    <tr>\n",
              "      <th>3</th>\n",
              "      <td>3</td>\n",
              "      <td>Sudan has also expressed concerns about the GE...</td>\n",
              "      <td>en</td>\n",
              "      <td>Negative</td>\n",
              "    </tr>\n",
              "    <tr>\n",
              "      <th>4</th>\n",
              "      <td>4</td>\n",
              "      <td>Sudan fears that the dam could lead to increas...</td>\n",
              "      <td>en</td>\n",
              "      <td>Negative</td>\n",
              "    </tr>\n",
              "  </tbody>\n",
              "</table>\n",
              "</div>\n",
              "    <div class=\"colab-df-buttons\">\n",
              "\n",
              "  <div class=\"colab-df-container\">\n",
              "    <button class=\"colab-df-convert\" onclick=\"convertToInteractive('df-89ef8880-edc5-478a-9b56-5305cc79a22f')\"\n",
              "            title=\"Convert this dataframe to an interactive table.\"\n",
              "            style=\"display:none;\">\n",
              "\n",
              "  <svg xmlns=\"http://www.w3.org/2000/svg\" height=\"24px\" viewBox=\"0 -960 960 960\">\n",
              "    <path d=\"M120-120v-720h720v720H120Zm60-500h600v-160H180v160Zm220 220h160v-160H400v160Zm0 220h160v-160H400v160ZM180-400h160v-160H180v160Zm440 0h160v-160H620v160ZM180-180h160v-160H180v160Zm440 0h160v-160H620v160Z\"/>\n",
              "  </svg>\n",
              "    </button>\n",
              "\n",
              "  <style>\n",
              "    .colab-df-container {\n",
              "      display:flex;\n",
              "      gap: 12px;\n",
              "    }\n",
              "\n",
              "    .colab-df-convert {\n",
              "      background-color: #E8F0FE;\n",
              "      border: none;\n",
              "      border-radius: 50%;\n",
              "      cursor: pointer;\n",
              "      display: none;\n",
              "      fill: #1967D2;\n",
              "      height: 32px;\n",
              "      padding: 0 0 0 0;\n",
              "      width: 32px;\n",
              "    }\n",
              "\n",
              "    .colab-df-convert:hover {\n",
              "      background-color: #E2EBFA;\n",
              "      box-shadow: 0px 1px 2px rgba(60, 64, 67, 0.3), 0px 1px 3px 1px rgba(60, 64, 67, 0.15);\n",
              "      fill: #174EA6;\n",
              "    }\n",
              "\n",
              "    .colab-df-buttons div {\n",
              "      margin-bottom: 4px;\n",
              "    }\n",
              "\n",
              "    [theme=dark] .colab-df-convert {\n",
              "      background-color: #3B4455;\n",
              "      fill: #D2E3FC;\n",
              "    }\n",
              "\n",
              "    [theme=dark] .colab-df-convert:hover {\n",
              "      background-color: #434B5C;\n",
              "      box-shadow: 0px 1px 3px 1px rgba(0, 0, 0, 0.15);\n",
              "      filter: drop-shadow(0px 1px 2px rgba(0, 0, 0, 0.3));\n",
              "      fill: #FFFFFF;\n",
              "    }\n",
              "  </style>\n",
              "\n",
              "    <script>\n",
              "      const buttonEl =\n",
              "        document.querySelector('#df-89ef8880-edc5-478a-9b56-5305cc79a22f button.colab-df-convert');\n",
              "      buttonEl.style.display =\n",
              "        google.colab.kernel.accessAllowed ? 'block' : 'none';\n",
              "\n",
              "      async function convertToInteractive(key) {\n",
              "        const element = document.querySelector('#df-89ef8880-edc5-478a-9b56-5305cc79a22f');\n",
              "        const dataTable =\n",
              "          await google.colab.kernel.invokeFunction('convertToInteractive',\n",
              "                                                    [key], {});\n",
              "        if (!dataTable) return;\n",
              "\n",
              "        const docLinkHtml = 'Like what you see? Visit the ' +\n",
              "          '<a target=\"_blank\" href=https://colab.research.google.com/notebooks/data_table.ipynb>data table notebook</a>'\n",
              "          + ' to learn more about interactive tables.';\n",
              "        element.innerHTML = '';\n",
              "        dataTable['output_type'] = 'display_data';\n",
              "        await google.colab.output.renderOutput(dataTable, element);\n",
              "        const docLink = document.createElement('div');\n",
              "        docLink.innerHTML = docLinkHtml;\n",
              "        element.appendChild(docLink);\n",
              "      }\n",
              "    </script>\n",
              "  </div>\n",
              "\n",
              "\n",
              "<div id=\"df-6d557bb7-1869-4648-a94d-73903df1f348\">\n",
              "  <button class=\"colab-df-quickchart\" onclick=\"quickchart('df-6d557bb7-1869-4648-a94d-73903df1f348')\"\n",
              "            title=\"Suggest charts\"\n",
              "            style=\"display:none;\">\n",
              "\n",
              "<svg xmlns=\"http://www.w3.org/2000/svg\" height=\"24px\"viewBox=\"0 0 24 24\"\n",
              "     width=\"24px\">\n",
              "    <g>\n",
              "        <path d=\"M19 3H5c-1.1 0-2 .9-2 2v14c0 1.1.9 2 2 2h14c1.1 0 2-.9 2-2V5c0-1.1-.9-2-2-2zM9 17H7v-7h2v7zm4 0h-2V7h2v10zm4 0h-2v-4h2v4z\"/>\n",
              "    </g>\n",
              "</svg>\n",
              "  </button>\n",
              "\n",
              "<style>\n",
              "  .colab-df-quickchart {\n",
              "      --bg-color: #E8F0FE;\n",
              "      --fill-color: #1967D2;\n",
              "      --hover-bg-color: #E2EBFA;\n",
              "      --hover-fill-color: #174EA6;\n",
              "      --disabled-fill-color: #AAA;\n",
              "      --disabled-bg-color: #DDD;\n",
              "  }\n",
              "\n",
              "  [theme=dark] .colab-df-quickchart {\n",
              "      --bg-color: #3B4455;\n",
              "      --fill-color: #D2E3FC;\n",
              "      --hover-bg-color: #434B5C;\n",
              "      --hover-fill-color: #FFFFFF;\n",
              "      --disabled-bg-color: #3B4455;\n",
              "      --disabled-fill-color: #666;\n",
              "  }\n",
              "\n",
              "  .colab-df-quickchart {\n",
              "    background-color: var(--bg-color);\n",
              "    border: none;\n",
              "    border-radius: 50%;\n",
              "    cursor: pointer;\n",
              "    display: none;\n",
              "    fill: var(--fill-color);\n",
              "    height: 32px;\n",
              "    padding: 0;\n",
              "    width: 32px;\n",
              "  }\n",
              "\n",
              "  .colab-df-quickchart:hover {\n",
              "    background-color: var(--hover-bg-color);\n",
              "    box-shadow: 0 1px 2px rgba(60, 64, 67, 0.3), 0 1px 3px 1px rgba(60, 64, 67, 0.15);\n",
              "    fill: var(--button-hover-fill-color);\n",
              "  }\n",
              "\n",
              "  .colab-df-quickchart-complete:disabled,\n",
              "  .colab-df-quickchart-complete:disabled:hover {\n",
              "    background-color: var(--disabled-bg-color);\n",
              "    fill: var(--disabled-fill-color);\n",
              "    box-shadow: none;\n",
              "  }\n",
              "\n",
              "  .colab-df-spinner {\n",
              "    border: 2px solid var(--fill-color);\n",
              "    border-color: transparent;\n",
              "    border-bottom-color: var(--fill-color);\n",
              "    animation:\n",
              "      spin 1s steps(1) infinite;\n",
              "  }\n",
              "\n",
              "  @keyframes spin {\n",
              "    0% {\n",
              "      border-color: transparent;\n",
              "      border-bottom-color: var(--fill-color);\n",
              "      border-left-color: var(--fill-color);\n",
              "    }\n",
              "    20% {\n",
              "      border-color: transparent;\n",
              "      border-left-color: var(--fill-color);\n",
              "      border-top-color: var(--fill-color);\n",
              "    }\n",
              "    30% {\n",
              "      border-color: transparent;\n",
              "      border-left-color: var(--fill-color);\n",
              "      border-top-color: var(--fill-color);\n",
              "      border-right-color: var(--fill-color);\n",
              "    }\n",
              "    40% {\n",
              "      border-color: transparent;\n",
              "      border-right-color: var(--fill-color);\n",
              "      border-top-color: var(--fill-color);\n",
              "    }\n",
              "    60% {\n",
              "      border-color: transparent;\n",
              "      border-right-color: var(--fill-color);\n",
              "    }\n",
              "    80% {\n",
              "      border-color: transparent;\n",
              "      border-right-color: var(--fill-color);\n",
              "      border-bottom-color: var(--fill-color);\n",
              "    }\n",
              "    90% {\n",
              "      border-color: transparent;\n",
              "      border-bottom-color: var(--fill-color);\n",
              "    }\n",
              "  }\n",
              "</style>\n",
              "\n",
              "  <script>\n",
              "    async function quickchart(key) {\n",
              "      const quickchartButtonEl =\n",
              "        document.querySelector('#' + key + ' button');\n",
              "      quickchartButtonEl.disabled = true;  // To prevent multiple clicks.\n",
              "      quickchartButtonEl.classList.add('colab-df-spinner');\n",
              "      try {\n",
              "        const charts = await google.colab.kernel.invokeFunction(\n",
              "            'suggestCharts', [key], {});\n",
              "      } catch (error) {\n",
              "        console.error('Error during call to suggestCharts:', error);\n",
              "      }\n",
              "      quickchartButtonEl.classList.remove('colab-df-spinner');\n",
              "      quickchartButtonEl.classList.add('colab-df-quickchart-complete');\n",
              "    }\n",
              "    (() => {\n",
              "      let quickchartButtonEl =\n",
              "        document.querySelector('#df-6d557bb7-1869-4648-a94d-73903df1f348 button');\n",
              "      quickchartButtonEl.style.display =\n",
              "        google.colab.kernel.accessAllowed ? 'block' : 'none';\n",
              "    })();\n",
              "  </script>\n",
              "</div>\n",
              "\n",
              "    </div>\n",
              "  </div>\n"
            ]
          },
          "metadata": {},
          "execution_count": 27
        }
      ]
    },
    {
      "cell_type": "code",
      "source": [
        "# Filter out unnamed columns\n",
        "unnamed_columns = data.filter(regex='Unnamed')\n",
        "\n",
        "# Drop unnamed columns from the DataFrame\n",
        "data = data.drop(columns=unnamed_columns)\n",
        "\n",
        "# Display the DataFrame after removing unnamed columns\n",
        "data.head()"
      ],
      "metadata": {
        "colab": {
          "base_uri": "https://localhost:8080/",
          "height": 206
        },
        "id": "vAeR-7RhzoXa",
        "outputId": "1d8c3dc5-5503-4c45-eaeb-49f4cc5c1239"
      },
      "execution_count": 28,
      "outputs": [
        {
          "output_type": "execute_result",
          "data": {
            "text/plain": [
              "                                           full_text lang Sentiment\n",
              "0  Egypt, which relies heavily on the Nile River ...   en  Negative\n",
              "1   Egypt fears that the dam's construction could...   en  Negative\n",
              "2  Egypt has been opposed to the construction of ...   en  Negative\n",
              "3  Sudan has also expressed concerns about the GE...   en  Negative\n",
              "4  Sudan fears that the dam could lead to increas...   en  Negative"
            ],
            "text/html": [
              "\n",
              "  <div id=\"df-ef377de4-c5fb-4b9b-b880-668d64965da1\" class=\"colab-df-container\">\n",
              "    <div>\n",
              "<style scoped>\n",
              "    .dataframe tbody tr th:only-of-type {\n",
              "        vertical-align: middle;\n",
              "    }\n",
              "\n",
              "    .dataframe tbody tr th {\n",
              "        vertical-align: top;\n",
              "    }\n",
              "\n",
              "    .dataframe thead th {\n",
              "        text-align: right;\n",
              "    }\n",
              "</style>\n",
              "<table border=\"1\" class=\"dataframe\">\n",
              "  <thead>\n",
              "    <tr style=\"text-align: right;\">\n",
              "      <th></th>\n",
              "      <th>full_text</th>\n",
              "      <th>lang</th>\n",
              "      <th>Sentiment</th>\n",
              "    </tr>\n",
              "  </thead>\n",
              "  <tbody>\n",
              "    <tr>\n",
              "      <th>0</th>\n",
              "      <td>Egypt, which relies heavily on the Nile River ...</td>\n",
              "      <td>en</td>\n",
              "      <td>Negative</td>\n",
              "    </tr>\n",
              "    <tr>\n",
              "      <th>1</th>\n",
              "      <td>Egypt fears that the dam's construction could...</td>\n",
              "      <td>en</td>\n",
              "      <td>Negative</td>\n",
              "    </tr>\n",
              "    <tr>\n",
              "      <th>2</th>\n",
              "      <td>Egypt has been opposed to the construction of ...</td>\n",
              "      <td>en</td>\n",
              "      <td>Negative</td>\n",
              "    </tr>\n",
              "    <tr>\n",
              "      <th>3</th>\n",
              "      <td>Sudan has also expressed concerns about the GE...</td>\n",
              "      <td>en</td>\n",
              "      <td>Negative</td>\n",
              "    </tr>\n",
              "    <tr>\n",
              "      <th>4</th>\n",
              "      <td>Sudan fears that the dam could lead to increas...</td>\n",
              "      <td>en</td>\n",
              "      <td>Negative</td>\n",
              "    </tr>\n",
              "  </tbody>\n",
              "</table>\n",
              "</div>\n",
              "    <div class=\"colab-df-buttons\">\n",
              "\n",
              "  <div class=\"colab-df-container\">\n",
              "    <button class=\"colab-df-convert\" onclick=\"convertToInteractive('df-ef377de4-c5fb-4b9b-b880-668d64965da1')\"\n",
              "            title=\"Convert this dataframe to an interactive table.\"\n",
              "            style=\"display:none;\">\n",
              "\n",
              "  <svg xmlns=\"http://www.w3.org/2000/svg\" height=\"24px\" viewBox=\"0 -960 960 960\">\n",
              "    <path d=\"M120-120v-720h720v720H120Zm60-500h600v-160H180v160Zm220 220h160v-160H400v160Zm0 220h160v-160H400v160ZM180-400h160v-160H180v160Zm440 0h160v-160H620v160ZM180-180h160v-160H180v160Zm440 0h160v-160H620v160Z\"/>\n",
              "  </svg>\n",
              "    </button>\n",
              "\n",
              "  <style>\n",
              "    .colab-df-container {\n",
              "      display:flex;\n",
              "      gap: 12px;\n",
              "    }\n",
              "\n",
              "    .colab-df-convert {\n",
              "      background-color: #E8F0FE;\n",
              "      border: none;\n",
              "      border-radius: 50%;\n",
              "      cursor: pointer;\n",
              "      display: none;\n",
              "      fill: #1967D2;\n",
              "      height: 32px;\n",
              "      padding: 0 0 0 0;\n",
              "      width: 32px;\n",
              "    }\n",
              "\n",
              "    .colab-df-convert:hover {\n",
              "      background-color: #E2EBFA;\n",
              "      box-shadow: 0px 1px 2px rgba(60, 64, 67, 0.3), 0px 1px 3px 1px rgba(60, 64, 67, 0.15);\n",
              "      fill: #174EA6;\n",
              "    }\n",
              "\n",
              "    .colab-df-buttons div {\n",
              "      margin-bottom: 4px;\n",
              "    }\n",
              "\n",
              "    [theme=dark] .colab-df-convert {\n",
              "      background-color: #3B4455;\n",
              "      fill: #D2E3FC;\n",
              "    }\n",
              "\n",
              "    [theme=dark] .colab-df-convert:hover {\n",
              "      background-color: #434B5C;\n",
              "      box-shadow: 0px 1px 3px 1px rgba(0, 0, 0, 0.15);\n",
              "      filter: drop-shadow(0px 1px 2px rgba(0, 0, 0, 0.3));\n",
              "      fill: #FFFFFF;\n",
              "    }\n",
              "  </style>\n",
              "\n",
              "    <script>\n",
              "      const buttonEl =\n",
              "        document.querySelector('#df-ef377de4-c5fb-4b9b-b880-668d64965da1 button.colab-df-convert');\n",
              "      buttonEl.style.display =\n",
              "        google.colab.kernel.accessAllowed ? 'block' : 'none';\n",
              "\n",
              "      async function convertToInteractive(key) {\n",
              "        const element = document.querySelector('#df-ef377de4-c5fb-4b9b-b880-668d64965da1');\n",
              "        const dataTable =\n",
              "          await google.colab.kernel.invokeFunction('convertToInteractive',\n",
              "                                                    [key], {});\n",
              "        if (!dataTable) return;\n",
              "\n",
              "        const docLinkHtml = 'Like what you see? Visit the ' +\n",
              "          '<a target=\"_blank\" href=https://colab.research.google.com/notebooks/data_table.ipynb>data table notebook</a>'\n",
              "          + ' to learn more about interactive tables.';\n",
              "        element.innerHTML = '';\n",
              "        dataTable['output_type'] = 'display_data';\n",
              "        await google.colab.output.renderOutput(dataTable, element);\n",
              "        const docLink = document.createElement('div');\n",
              "        docLink.innerHTML = docLinkHtml;\n",
              "        element.appendChild(docLink);\n",
              "      }\n",
              "    </script>\n",
              "  </div>\n",
              "\n",
              "\n",
              "<div id=\"df-9b761eda-fa97-4a2c-b91f-47d9576d2dc8\">\n",
              "  <button class=\"colab-df-quickchart\" onclick=\"quickchart('df-9b761eda-fa97-4a2c-b91f-47d9576d2dc8')\"\n",
              "            title=\"Suggest charts\"\n",
              "            style=\"display:none;\">\n",
              "\n",
              "<svg xmlns=\"http://www.w3.org/2000/svg\" height=\"24px\"viewBox=\"0 0 24 24\"\n",
              "     width=\"24px\">\n",
              "    <g>\n",
              "        <path d=\"M19 3H5c-1.1 0-2 .9-2 2v14c0 1.1.9 2 2 2h14c1.1 0 2-.9 2-2V5c0-1.1-.9-2-2-2zM9 17H7v-7h2v7zm4 0h-2V7h2v10zm4 0h-2v-4h2v4z\"/>\n",
              "    </g>\n",
              "</svg>\n",
              "  </button>\n",
              "\n",
              "<style>\n",
              "  .colab-df-quickchart {\n",
              "      --bg-color: #E8F0FE;\n",
              "      --fill-color: #1967D2;\n",
              "      --hover-bg-color: #E2EBFA;\n",
              "      --hover-fill-color: #174EA6;\n",
              "      --disabled-fill-color: #AAA;\n",
              "      --disabled-bg-color: #DDD;\n",
              "  }\n",
              "\n",
              "  [theme=dark] .colab-df-quickchart {\n",
              "      --bg-color: #3B4455;\n",
              "      --fill-color: #D2E3FC;\n",
              "      --hover-bg-color: #434B5C;\n",
              "      --hover-fill-color: #FFFFFF;\n",
              "      --disabled-bg-color: #3B4455;\n",
              "      --disabled-fill-color: #666;\n",
              "  }\n",
              "\n",
              "  .colab-df-quickchart {\n",
              "    background-color: var(--bg-color);\n",
              "    border: none;\n",
              "    border-radius: 50%;\n",
              "    cursor: pointer;\n",
              "    display: none;\n",
              "    fill: var(--fill-color);\n",
              "    height: 32px;\n",
              "    padding: 0;\n",
              "    width: 32px;\n",
              "  }\n",
              "\n",
              "  .colab-df-quickchart:hover {\n",
              "    background-color: var(--hover-bg-color);\n",
              "    box-shadow: 0 1px 2px rgba(60, 64, 67, 0.3), 0 1px 3px 1px rgba(60, 64, 67, 0.15);\n",
              "    fill: var(--button-hover-fill-color);\n",
              "  }\n",
              "\n",
              "  .colab-df-quickchart-complete:disabled,\n",
              "  .colab-df-quickchart-complete:disabled:hover {\n",
              "    background-color: var(--disabled-bg-color);\n",
              "    fill: var(--disabled-fill-color);\n",
              "    box-shadow: none;\n",
              "  }\n",
              "\n",
              "  .colab-df-spinner {\n",
              "    border: 2px solid var(--fill-color);\n",
              "    border-color: transparent;\n",
              "    border-bottom-color: var(--fill-color);\n",
              "    animation:\n",
              "      spin 1s steps(1) infinite;\n",
              "  }\n",
              "\n",
              "  @keyframes spin {\n",
              "    0% {\n",
              "      border-color: transparent;\n",
              "      border-bottom-color: var(--fill-color);\n",
              "      border-left-color: var(--fill-color);\n",
              "    }\n",
              "    20% {\n",
              "      border-color: transparent;\n",
              "      border-left-color: var(--fill-color);\n",
              "      border-top-color: var(--fill-color);\n",
              "    }\n",
              "    30% {\n",
              "      border-color: transparent;\n",
              "      border-left-color: var(--fill-color);\n",
              "      border-top-color: var(--fill-color);\n",
              "      border-right-color: var(--fill-color);\n",
              "    }\n",
              "    40% {\n",
              "      border-color: transparent;\n",
              "      border-right-color: var(--fill-color);\n",
              "      border-top-color: var(--fill-color);\n",
              "    }\n",
              "    60% {\n",
              "      border-color: transparent;\n",
              "      border-right-color: var(--fill-color);\n",
              "    }\n",
              "    80% {\n",
              "      border-color: transparent;\n",
              "      border-right-color: var(--fill-color);\n",
              "      border-bottom-color: var(--fill-color);\n",
              "    }\n",
              "    90% {\n",
              "      border-color: transparent;\n",
              "      border-bottom-color: var(--fill-color);\n",
              "    }\n",
              "  }\n",
              "</style>\n",
              "\n",
              "  <script>\n",
              "    async function quickchart(key) {\n",
              "      const quickchartButtonEl =\n",
              "        document.querySelector('#' + key + ' button');\n",
              "      quickchartButtonEl.disabled = true;  // To prevent multiple clicks.\n",
              "      quickchartButtonEl.classList.add('colab-df-spinner');\n",
              "      try {\n",
              "        const charts = await google.colab.kernel.invokeFunction(\n",
              "            'suggestCharts', [key], {});\n",
              "      } catch (error) {\n",
              "        console.error('Error during call to suggestCharts:', error);\n",
              "      }\n",
              "      quickchartButtonEl.classList.remove('colab-df-spinner');\n",
              "      quickchartButtonEl.classList.add('colab-df-quickchart-complete');\n",
              "    }\n",
              "    (() => {\n",
              "      let quickchartButtonEl =\n",
              "        document.querySelector('#df-9b761eda-fa97-4a2c-b91f-47d9576d2dc8 button');\n",
              "      quickchartButtonEl.style.display =\n",
              "        google.colab.kernel.accessAllowed ? 'block' : 'none';\n",
              "    })();\n",
              "  </script>\n",
              "</div>\n",
              "\n",
              "    </div>\n",
              "  </div>\n"
            ]
          },
          "metadata": {},
          "execution_count": 28
        }
      ]
    },
    {
      "cell_type": "code",
      "source": [
        "len(data)"
      ],
      "metadata": {
        "colab": {
          "base_uri": "https://localhost:8080/"
        },
        "id": "kgNeNMoTxvkq",
        "outputId": "898efebb-7e66-4864-b8f9-63d1b7e24985"
      },
      "execution_count": 29,
      "outputs": [
        {
          "output_type": "execute_result",
          "data": {
            "text/plain": [
              "14066"
            ]
          },
          "metadata": {},
          "execution_count": 29
        }
      ]
    },
    {
      "cell_type": "code",
      "source": [
        "data.columns"
      ],
      "metadata": {
        "colab": {
          "base_uri": "https://localhost:8080/"
        },
        "id": "v1oQCZGmx-9y",
        "outputId": "0cc02c80-9e3c-44b3-831c-2f495a6a775d"
      },
      "execution_count": 30,
      "outputs": [
        {
          "output_type": "execute_result",
          "data": {
            "text/plain": [
              "Index(['full_text', 'lang', 'Sentiment'], dtype='object')"
            ]
          },
          "metadata": {},
          "execution_count": 30
        }
      ]
    },
    {
      "cell_type": "code",
      "source": [
        "data[\"full_text\"].isnull().sum()"
      ],
      "metadata": {
        "colab": {
          "base_uri": "https://localhost:8080/"
        },
        "id": "ZKPLkBDPy5yB",
        "outputId": "6f61b0b2-cf6e-4410-ba31-da4c2760ae0d"
      },
      "execution_count": 31,
      "outputs": [
        {
          "output_type": "execute_result",
          "data": {
            "text/plain": [
              "0"
            ]
          },
          "metadata": {},
          "execution_count": 31
        }
      ]
    },
    {
      "cell_type": "code",
      "source": [
        "data[\"full_text\"]=data[\"full_text\"].fillna(data[\"full_text\"].mode()[0])"
      ],
      "metadata": {
        "id": "0iCvOxRezP2Q"
      },
      "execution_count": 32,
      "outputs": []
    },
    {
      "cell_type": "code",
      "source": [
        "data['full_text'] =data['full_text'].apply(preprocess_tweet)"
      ],
      "metadata": {
        "id": "Gz9GxeBSzSNt"
      },
      "execution_count": 33,
      "outputs": []
    },
    {
      "cell_type": "code",
      "source": [
        "\n",
        "data[\"full_text\"][4000:4100]"
      ],
      "metadata": {
        "colab": {
          "base_uri": "https://localhost:8080/"
        },
        "id": "Zf1PC6nAzV2g",
        "outputId": "d943e5ab-6a34-4561-b0e3-d1de9a04624b"
      },
      "execution_count": 34,
      "outputs": [
        {
          "output_type": "execute_result",
          "data": {
            "text/plain": [
              "4000    Sabi  The Nile Basin suffers from an absence o...\n",
              "4001    Sabi  The GERD will benefit Egypt which will h...\n",
              "4002    Sabi  The intl community should pressure Sudan...\n",
              "4003    Sabi  Egypt and Sudan need to sign the agreeme...\n",
              "4004    Sabi  The Grand Ethiopian Renaissance Dam GERD...\n",
              "                              ...                        \n",
              "4095    _AfricanUnion is mediating the talks between E...\n",
              "4096    Ethiopians call on the Arab League to refrain ...\n",
              "4097    For many years Egyptians have been misinformed...\n",
              "4098    The Grand Ethiopian Renaissance Dam GERD will ...\n",
              "4099    A research by the Uni of Waterloo UWaterloo sh...\n",
              "Name: full_text, Length: 100, dtype: object"
            ]
          },
          "metadata": {},
          "execution_count": 34
        }
      ]
    },
    {
      "cell_type": "code",
      "source": [
        "data[\"Sentiment\"].unique()"
      ],
      "metadata": {
        "colab": {
          "base_uri": "https://localhost:8080/"
        },
        "id": "B6rsk1ttz6Eh",
        "outputId": "7b8ce953-2ab0-481d-9d20-6e753f48d95b"
      },
      "execution_count": 38,
      "outputs": [
        {
          "output_type": "execute_result",
          "data": {
            "text/plain": [
              "array(['Negative', 'Neutral', 'Positive'], dtype=object)"
            ]
          },
          "metadata": {},
          "execution_count": 38
        }
      ]
    },
    {
      "cell_type": "code",
      "source": [
        "data[\"Sentiment\"]=data[\"Sentiment\"].fillna(\"Neutral\")"
      ],
      "metadata": {
        "id": "F3gQsDXYz_FQ"
      },
      "execution_count": 39,
      "outputs": []
    },
    {
      "cell_type": "code",
      "source": [
        "# data[\"Sentiment\"] = data[\"Sentiment\"].replace(\"Positve\", \"Negative\")"
      ],
      "metadata": {
        "id": "qvmjEuJn0Hhg"
      },
      "execution_count": 40,
      "outputs": []
    },
    {
      "cell_type": "code",
      "source": [
        "# x = data[data[\"Sentiment\"] == \"Negative\"]\n",
        "# x\n",
        "data[\"lang\"].unique()"
      ],
      "metadata": {
        "colab": {
          "base_uri": "https://localhost:8080/"
        },
        "id": "yN0Bh-kT20uH",
        "outputId": "a8647c6e-c759-459b-9127-6cf2cd06bfc3"
      },
      "execution_count": 45,
      "outputs": [
        {
          "output_type": "execute_result",
          "data": {
            "text/plain": [
              "array(['en', 'am', 'ar', nan], dtype=object)"
            ]
          },
          "metadata": {},
          "execution_count": 45
        }
      ]
    },
    {
      "cell_type": "markdown",
      "source": [
        "# **Generate wordcloud for English tweets**"
      ],
      "metadata": {
        "id": "apLK5WCq5ean"
      }
    },
    {
      "cell_type": "markdown",
      "source": [
        "# **Generate Word Cloud for Amharic Tweets**"
      ],
      "metadata": {
        "id": "DQW5f8vn6CNX"
      }
    },
    {
      "cell_type": "markdown",
      "source": [
        "#**Generate Word Cloud for Arabic Tweets**"
      ],
      "metadata": {
        "id": "TwPWsneX5kmN"
      }
    },
    {
      "cell_type": "code",
      "source": [
        "eng_tweet=data[data[\"lang\"]==\"en\"]\n",
        "Amh_tweet=data[data[\"lang\"]==\"am\"]\n",
        "arabic_tweet=data[data[\"lang\"]==\"ar\"]"
      ],
      "metadata": {
        "id": "7YnttIpH3EDn"
      },
      "execution_count": 57,
      "outputs": []
    },
    {
      "cell_type": "code",
      "source": [
        "eng_tweet\n",
        "Amh_tweet\n",
        "arabic_tweet\n",
        "print(eng_tweet.shape, Amh_tweet.shape, arabic_tweet.shape)"
      ],
      "metadata": {
        "colab": {
          "base_uri": "https://localhost:8080/"
        },
        "id": "R6Sa2T1M345P",
        "outputId": "6b1afde0-aa12-4851-a1a4-8025e5c92d56"
      },
      "execution_count": 58,
      "outputs": [
        {
          "output_type": "stream",
          "name": "stdout",
          "text": [
            "(5982, 3) (4188, 3) (3894, 3)\n"
          ]
        }
      ]
    },
    {
      "cell_type": "code",
      "source": [
        "import pandas as pd\n",
        "from wordcloud import WordCloud\n",
        "import matplotlib.pyplot as plt\n",
        "from nltk.corpus import stopwords\n",
        "\n",
        "# from ArabicStemmer import ArabicStemmer"
      ],
      "metadata": {
        "id": "_aREEdUV4n2X"
      },
      "execution_count": 54,
      "outputs": []
    },
    {
      "cell_type": "code",
      "source": [
        "# from nltk.stem.isri import ISRIStemmer\n",
        "# st = ISRIStemmer()\n",
        "# w= 'حركات'\n",
        "# join = w.decode('Windows-1256')\n",
        "# print (st.stem(join).encode('Windows-1256').decode('utf-8'))"
      ],
      "metadata": {
        "id": "-PF6kLdO4z4e"
      },
      "execution_count": 55,
      "outputs": []
    },
    {
      "cell_type": "code",
      "source": [
        "# Combine all tweets into a single string\n",
        "text = \" \".join(tweet for tweet in eng_tweet.full_text)\n",
        "import nltk\n",
        "nltk.download('stopwords')\n",
        "# Define stop words for English\n",
        "english_stop_words = set(stopwords.words('english'))\n",
        "\n",
        "# Define stop words for Arabic\n",
        "#arabic_stemmer = ArabicStemmer()\n",
        "#arabic_stop_words = set(arabic_stemmer.get_stop_words())\n",
        "\n",
        "# Generate a word cloud\n",
        "#wordcloud = WordCloud(width=800, height=400, background_color=\"white\", stopwords=english_stop_words.union(arabic_stop_words)).generate(text)\n",
        "wordcloud = WordCloud(width=800, height=400, background_color=\"white\", stopwords=english_stop_words).generate(text)\n",
        "\n",
        "# Plot the word cloud\n",
        "plt.figure(figsize=(10, 5))\n",
        "plt.imshow(wordcloud, interpolation='bilinear')\n",
        "plt.axis('off')\n",
        "plt.show()"
      ],
      "metadata": {
        "colab": {
          "base_uri": "https://localhost:8080/",
          "height": 457
        },
        "id": "LFR9tiC33PRW",
        "outputId": "19159041-931d-4565-ee33-b9d4f1dcea7e"
      },
      "execution_count": 56,
      "outputs": [
        {
          "output_type": "stream",
          "name": "stderr",
          "text": [
            "[nltk_data] Downloading package stopwords to /root/nltk_data...\n",
            "[nltk_data]   Unzipping corpora/stopwords.zip.\n"
          ]
        },
        {
          "output_type": "display_data",
          "data": {
            "text/plain": [
              "<Figure size 1000x500 with 1 Axes>"
            ],
            "image/png": "[encoded data removed]"
          },
          "metadata": {}
        }
      ]
    },
    {
      "cell_type": "code",
      "source": [
        "# Combine all tweets into a single string\n",
        "text = \" \".join(tweet for tweet in arabic_tweet.full_text)\n",
        "\n",
        "# Generate a word cloud\n",
        "wordcloud = WordCloud(width=800, height=400, background_color=\"white\").generate(text)\n",
        "\n",
        "# Plot the word cloud\n",
        "plt.figure(figsize=(14, 5))\n",
        "plt.imshow(wordcloud, interpolation='bilinear')\n",
        "plt.axis('off')\n",
        "plt.show()"
      ],
      "metadata": {
        "colab": {
          "base_uri": "https://localhost:8080/",
          "height": 422
        },
        "id": "YYtpyAAI5tm1",
        "outputId": "9bcb7dfc-112e-4dfd-a916-7ba1896c63be"
      },
      "execution_count": 59,
      "outputs": [
        {
          "output_type": "display_data",
          "data": {
            "text/plain": [
              "<Figure size 1400x500 with 1 Axes>"
            ],
            "image/png": "[encoded data removed]"
          },
          "metadata": {}
        }
      ]
    },
    {
      "cell_type": "code",
      "source": [
        "# Sample data\n",
        "df = pd.DataFrame({'tweet': [\"በጣም የሚጣል የተለያዩ አገራት የሚካሄዱት ተጠቃሚዎች በተለያዩ የራስን ምልክት ራስ የሚሰጥ ማንነት ነው\",\n",
        "                             \"የአማርኛ መጽሐፍ ስልክ መልካም የፊደል መጠቀም አይደለም\"]})\n",
        "\n",
        "# Combine all tweets into a single string\n",
        "text = \" \".join(tweet for tweet in Amh_tweet.full_text)\n",
        "\n",
        "# Generate a word cloud\n",
        "# wordcloud = WordCloud(width=800, height=400, font_path='/content/drive/My Drive/Myfiles/jiretsl.ttf', background_color=\"white\").generate(text)\n",
        "\n",
        "# Plot the word cloud\n",
        "plt.figure(figsize=(15, 6))\n",
        "plt.imshow(text, interpolation='bilinear')\n",
        "plt.axis('off')\n",
        "plt.show()"
      ],
      "metadata": {
        "id": "WmSwzJT76hXV"
      },
      "execution_count": null,
      "outputs": []
    },
    {
      "cell_type": "markdown",
      "source": [
        "# **Build LSTM-CNN Model**"
      ],
      "metadata": {
        "id": "H1wDHEnw7LpM"
      }
    },
    {
      "cell_type": "code",
      "source": [
        "!pip install transformers"
      ],
      "metadata": {
        "colab": {
          "base_uri": "https://localhost:8080/"
        },
        "id": "NN4AcEXW7Jh1",
        "outputId": "c32b249f-cba3-4766-c21c-9bdc87dc445d"
      },
      "execution_count": 61,
      "outputs": [
        {
          "output_type": "stream",
          "name": "stdout",
          "text": [
            "Requirement already satisfied: transformers in /usr/local/lib/python3.10/dist-packages (4.35.2)\n",
            "Requirement already satisfied: filelock in /usr/local/lib/python3.10/dist-packages (from transformers) (3.13.1)\n",
            "Requirement already satisfied: huggingface-hub<1.0,>=0.16.4 in /usr/local/lib/python3.10/dist-packages (from transformers) (0.20.2)\n",
            "Requirement already satisfied: numpy>=1.17 in /usr/local/lib/python3.10/dist-packages (from transformers) (1.23.5)\n",
            "Requirement already satisfied: packaging>=20.0 in /usr/local/lib/python3.10/dist-packages (from transformers) (23.2)\n",
            "Requirement already satisfied: pyyaml>=5.1 in /usr/local/lib/python3.10/dist-packages (from transformers) (6.0.1)\n",
            "Requirement already satisfied: regex!=2019.12.17 in /usr/local/lib/python3.10/dist-packages (from transformers) (2023.6.3)\n",
            "Requirement already satisfied: requests in /usr/local/lib/python3.10/dist-packages (from transformers) (2.31.0)\n",
            "Requirement already satisfied: tokenizers<0.19,>=0.14 in /usr/local/lib/python3.10/dist-packages (from transformers) (0.15.0)\n",
            "Requirement already satisfied: safetensors>=0.3.1 in /usr/local/lib/python3.10/dist-packages (from transformers) (0.4.1)\n",
            "Requirement already satisfied: tqdm>=4.27 in /usr/local/lib/python3.10/dist-packages (from transformers) (4.66.1)\n",
            "Requirement already satisfied: fsspec>=2023.5.0 in /usr/local/lib/python3.10/dist-packages (from huggingface-hub<1.0,>=0.16.4->transformers) (2023.6.0)\n",
            "Requirement already satisfied: typing-extensions>=3.7.4.3 in /usr/local/lib/python3.10/dist-packages (from huggingface-hub<1.0,>=0.16.4->transformers) (4.5.0)\n",
            "Requirement already satisfied: charset-normalizer<4,>=2 in /usr/local/lib/python3.10/dist-packages (from requests->transformers) (3.3.2)\n",
            "Requirement already satisfied: idna<4,>=2.5 in /usr/local/lib/python3.10/dist-packages (from requests->transformers) (3.6)\n",
            "Requirement already satisfied: urllib3<3,>=1.21.1 in /usr/local/lib/python3.10/dist-packages (from requests->transformers) (2.0.7)\n",
            "Requirement already satisfied: certifi>=2017.4.17 in /usr/local/lib/python3.10/dist-packages (from requests->transformers) (2023.11.17)\n"
          ]
        }
      ]
    },
    {
      "cell_type": "code",
      "source": [
        "import pandas as pd\n",
        "import numpy as np\n",
        "from sklearn.model_selection import train_test_split\n",
        "from transformers import AutoTokenizer, TFAutoModel\n",
        "from tensorflow.keras.layers import Dense, Input, LSTM, Embedding, Dropout, Conv1D, MaxPooling1D, GlobalMaxPooling1D, concatenate\n",
        "from tensorflow.keras.models import Model\n",
        "from sklearn.preprocessing import LabelEncoder"
      ],
      "metadata": {
        "id": "rs82_Hxp7QCf"
      },
      "execution_count": 62,
      "outputs": []
    },
    {
      "cell_type": "code",
      "source": [
        "# Split the data into training and testing sets\n",
        "train_data, test_data = train_test_split(data, test_size=0.2, random_state=42)\n",
        "\n",
        "# Load the tokenizer and mBERT model\n",
        "model_name = \"bert-base-multilingual-cased\"\n",
        "tokenizer = AutoTokenizer.from_pretrained(model_name)\n",
        "bert_model = TFAutoModel.from_pretrained(model_name)\n",
        "bert_model.trainable = False"
      ],
      "metadata": {
        "colab": {
          "base_uri": "https://localhost:8080/",
          "height": 388,
          "referenced_widgets": [
            "07a818221d5f4367b0954eb93d155635",
            "479ce99bd3ae4564abb63b3570a16311",
            "6db247dd51b84885bc73ac47f641e5e2",
            "db7c796fb9324359a20851ef0ff369f8",
            "95d7c75c215f47baba5b5b0877a456ca",
            "6f852a48ed8a48d5a357eac80a498de2",
            "a5913be26a744bc4bad54c4798db7717",
            "bdfa720dec9c4eb3b1a8a902f0cf5fe1",
            "2d4905e7aebb45e593bc0a49b3a04e4c",
            "3bbb2a9d5c9542cc9b98e31fe97f2d8d",
            "45de4dff05c94dc18d93eabb5d3cfc69",
            "e9018d9411694df38733bf6bdf8469a1",
            "3e7666553078431bb977d638ac2d35f7",
            "e03f648f527046dcac4d1cc91a1a635e",
            "6045650bb7c74a43a0d6f927dc8b7ee0",
            "10758efb6a834a6b822f4317f6008ef9",
            "24f5c063c00248b4b4cc0b43446e843f",
            "79e5660c110b4c9eb1810e70b9d95575",
            "fbcf6fa06dea4688be5cf5ce6729c0f0",
            "ceb83741fe1140ac8162b69703476edb",
            "b874c8ef7dc04d3a8c91c1096d3cbdd2",
            "936f3cb7137449a0bdf4a1a82b46276e",
            "11113401e3aa4b3d8398aa2d7057bc5f",
            "fbe49c574a61499cb9aedacd19a65979",
            "6622fc47dd9f4a0f8e24623628c65f65",
            "f256a07e88634714a756b95f0eb5fe85",
            "1267bd04eee04687a298961ccc7517ff",
            "0eba9c9420e04858b37813ad410b6808",
            "ec679c90bb1b45a09c8555ff15e5460d",
            "2d349b5102764f8ca64236755b15ed19",
            "f8f43f356a5c40d4a3e7345766cc9931",
            "749fcace8f18482d8860a1f6b8ecf6e6",
            "dcd9293342564c8e8fd5075908be923f",
            "126d0f290e5b4d46bf162f6fdb2f12cb",
            "da0f05d22f5f45d49d6a2805539428de",
            "7c8d6b1ae70147c78f2509db167fa956",
            "09600f7710c54f37975c663438e02310",
            "d6d6c2bf2ec84c6c997f9be51ac97638",
            "8a31e9b299eb49b88fd6efad2ffebfb8",
            "0978eba146ec443f85c8679decd5d9f6",
            "71e4ce0d2ca34c4cb7971fabd9a95e61",
            "dfe698948f6b43c380b59c6564f6b6e9",
            "034be07b7d764d18a4c2fa44de84f348",
            "bc5db6614b0941519042972aa94360b7",
            "73e86752e13b4a9aa43bef0c6c96a317",
            "84417ef94cca4af784fbb34304df816b",
            "797fe0f70acc4940b8259f702e0d3b20",
            "3bb64ee70d6044a8a5c61b5c15e15bda",
            "0f3202d4e59f4d1182cebac9175c712b",
            "e87ce861e92c415096767cc2479dfa51",
            "cf8048064ab84525a127b3faa74b6f74",
            "8defde108ce1415cae0a77cc2b42ce4a",
            "4130c8cf3179469ab4eb2a1177f51027",
            "8a1281eefc104ca6b278acdfd3dcc204",
            "7b747a98958d4438aa8988b3cc18b662"
          ]
        },
        "id": "Tdnren1A7YsM",
        "outputId": "773e45fd-1bb8-4822-ac74-f95145fd8563"
      },
      "execution_count": 63,
      "outputs": [
        {
          "output_type": "stream",
          "name": "stderr",
          "text": [
            "/usr/local/lib/python3.10/dist-packages/huggingface_hub/utils/_token.py:88: UserWarning: \n",
            "The secret `HF_TOKEN` does not exist in your Colab secrets.\n",
            "To authenticate with the Hugging Face Hub, create a token in your settings tab (https://huggingface.co/settings/tokens), set it as secret in your Google Colab and restart your session.\n",
            "You will be able to reuse this secret in all of your notebooks.\n",
            "Please note that authentication is recommended but still optional to access public models or datasets.\n",
            "  warnings.warn(\n"
          ]
        },
        {
          "output_type": "display_data",
          "data": {
            "text/plain": [
              "tokenizer_config.json:   0%|          | 0.00/29.0 [00:00<?, ?B/s]"
            ],
            "application/vnd.jupyter.widget-view+json": {
              "version_major": 2,
              "version_minor": 0,
              "model_id": "07a818221d5f4367b0954eb93d155635"
            }
          },
          "metadata": {}
        },
        {
          "output_type": "display_data",
          "data": {
            "text/plain": [
              "config.json:   0%|          | 0.00/625 [00:00<?, ?B/s]"
            ],
            "application/vnd.jupyter.widget-view+json": {
              "version_major": 2,
              "version_minor": 0,
              "model_id": "e9018d9411694df38733bf6bdf8469a1"
            }
          },
          "metadata": {}
        },
        {
          "output_type": "display_data",
          "data": {
            "text/plain": [
              "vocab.txt:   0%|          | 0.00/996k [00:00<?, ?B/s]"
            ],
            "application/vnd.jupyter.widget-view+json": {
              "version_major": 2,
              "version_minor": 0,
              "model_id": "11113401e3aa4b3d8398aa2d7057bc5f"
            }
          },
          "metadata": {}
        },
        {
          "output_type": "display_data",
          "data": {
            "text/plain": [
              "tokenizer.json:   0%|          | 0.00/1.96M [00:00<?, ?B/s]"
            ],
            "application/vnd.jupyter.widget-view+json": {
              "version_major": 2,
              "version_minor": 0,
              "model_id": "126d0f290e5b4d46bf162f6fdb2f12cb"
            }
          },
          "metadata": {}
        },
        {
          "output_type": "display_data",
          "data": {
            "text/plain": [
              "model.safetensors:   0%|          | 0.00/714M [00:00<?, ?B/s]"
            ],
            "application/vnd.jupyter.widget-view+json": {
              "version_major": 2,
              "version_minor": 0,
              "model_id": "73e86752e13b4a9aa43bef0c6c96a317"
            }
          },
          "metadata": {}
        },
        {
          "output_type": "stream",
          "name": "stderr",
          "text": [
            "Some weights of the PyTorch model were not used when initializing the TF 2.0 model TFBertModel: ['cls.predictions.bias', 'cls.predictions.transform.LayerNorm.bias', 'cls.predictions.transform.dense.bias', 'cls.seq_relationship.bias', 'cls.seq_relationship.weight', 'cls.predictions.transform.dense.weight', 'cls.predictions.transform.LayerNorm.weight']\n",
            "- This IS expected if you are initializing TFBertModel from a PyTorch model trained on another task or with another architecture (e.g. initializing a TFBertForSequenceClassification model from a BertForPreTraining model).\n",
            "- This IS NOT expected if you are initializing TFBertModel from a PyTorch model that you expect to be exactly identical (e.g. initializing a TFBertForSequenceClassification model from a BertForSequenceClassification model).\n",
            "All the weights of TFBertModel were initialized from the PyTorch model.\n",
            "If your task is similar to the task the model of the checkpoint was trained on, you can already use TFBertModel for predictions without further training.\n"
          ]
        }
      ]
    },
    {
      "cell_type": "code",
      "source": [
        "# Encode the training and testing data using the tokenizer\n",
        "\n",
        "train_data, test_data = train_test_split(data, test_size=0.2, random_state=42)\n",
        "x_train = tokenizer(list(train_data[\"full_text\"]), padding=True, truncation=True, max_length=128, return_tensors='tf')\n",
        "x_test = tokenizer(list(test_data[\"full_text\"]), padding=True, truncation=True, max_length=128, return_tensors='tf')"
      ],
      "metadata": {
        "id": "KY3i1AQg7tY-"
      },
      "execution_count": 64,
      "outputs": []
    },
    {
      "cell_type": "code",
      "source": [
        "len(list(train_data[\"full_text\"]))"
      ],
      "metadata": {
        "colab": {
          "base_uri": "https://localhost:8080/"
        },
        "id": "kfWjJAZl72om",
        "outputId": "4a346e4b-a95c-4fcb-8549-8109365b1840"
      },
      "execution_count": 65,
      "outputs": [
        {
          "output_type": "execute_result",
          "data": {
            "text/plain": [
              "11252"
            ]
          },
          "metadata": {},
          "execution_count": 65
        }
      ]
    },
    {
      "cell_type": "code",
      "source": [
        "x_train[100].ids"
      ],
      "metadata": {
        "colab": {
          "base_uri": "https://localhost:8080/"
        },
        "id": "QR6DqrnA75Yd",
        "outputId": "fee1a466-3a0d-4227-e72a-2bca8ffa9cc6"
      },
      "execution_count": 66,
      "outputs": [
        {
          "output_type": "execute_result",
          "data": {
            "text/plain": [
              "[101,\n",
              " 11065,\n",
              " 10301,\n",
              " 25090,\n",
              " 19777,\n",
              " 10109,\n",
              " 12547,\n",
              " 11426,\n",
              " 10111,\n",
              " 10531,\n",
              " 10124,\n",
              " 11053,\n",
              " 10114,\n",
              " 10435,\n",
              " 10111,\n",
              " 11951,\n",
              " 10106,\n",
              " 28336,\n",
              " 10537,\n",
              " 23763,\n",
              " 11758,\n",
              " 10347,\n",
              " 28407,\n",
              " 13565,\n",
              " 146,\n",
              " 36110,\n",
              " 11758,\n",
              " 10347,\n",
              " 10109,\n",
              " 12547,\n",
              " 10377,\n",
              " 10134,\n",
              " 10111,\n",
              " 12647,\n",
              " 10124,\n",
              " 10142,\n",
              " 169,\n",
              " 11695,\n",
              " 10635,\n",
              " 13028,\n",
              " 10529,\n",
              " 11773,\n",
              " 10111,\n",
              " 12286,\n",
              " 10473,\n",
              " 13028,\n",
              " 11758,\n",
              " 11760,\n",
              " 10271,\n",
              " 10111,\n",
              " 10347,\n",
              " 10109,\n",
              " 12547,\n",
              " 10882,\n",
              " 10142,\n",
              " 10105,\n",
              " 16812,\n",
              " 20993,\n",
              " 10474,\n",
              " 75633,\n",
              " 10124,\n",
              " 11053,\n",
              " 10155,\n",
              " 20442,\n",
              " 32173,\n",
              " 10169,\n",
              " 20440,\n",
              " 10345,\n",
              " 11327,\n",
              " 10271,\n",
              " 14864,\n",
              " 75633,\n",
              " 10124,\n",
              " 10114,\n",
              " 36474,\n",
              " 21092,\n",
              " 10354,\n",
              " 10169,\n",
              " 42426,\n",
              " 15217,\n",
              " 10422,\n",
              " 10111,\n",
              " 10169,\n",
              " 17446,\n",
              " 15217,\n",
              " 11132,\n",
              " 102,\n",
              " 0,\n",
              " 0,\n",
              " 0,\n",
              " 0,\n",
              " 0,\n",
              " 0,\n",
              " 0,\n",
              " 0,\n",
              " 0,\n",
              " 0,\n",
              " 0,\n",
              " 0,\n",
              " 0,\n",
              " 0,\n",
              " 0,\n",
              " 0,\n",
              " 0,\n",
              " 0,\n",
              " 0,\n",
              " 0,\n",
              " 0,\n",
              " 0,\n",
              " 0,\n",
              " 0,\n",
              " 0,\n",
              " 0,\n",
              " 0,\n",
              " 0,\n",
              " 0,\n",
              " 0,\n",
              " 0,\n",
              " 0,\n",
              " 0,\n",
              " 0,\n",
              " 0,\n",
              " 0,\n",
              " 0,\n",
              " 0,\n",
              " 0,\n",
              " 0,\n",
              " 0]"
            ]
          },
          "metadata": {},
          "execution_count": 66
        }
      ]
    },
    {
      "cell_type": "code",
      "source": [
        "len(tokenizer(list(test_data[\"full_text\"])))"
      ],
      "metadata": {
        "colab": {
          "base_uri": "https://localhost:8080/"
        },
        "id": "n-BgMXlw77QV",
        "outputId": "aaaa3750-087d-461a-c875-c2d2baf440ad"
      },
      "execution_count": 67,
      "outputs": [
        {
          "output_type": "execute_result",
          "data": {
            "text/plain": [
              "3"
            ]
          },
          "metadata": {},
          "execution_count": 67
        }
      ]
    },
    {
      "cell_type": "code",
      "source": [
        "# Convert the labels to integer-encoded values\n",
        "label_encoder = LabelEncoder()\n",
        "label_encoder.fit(train_data[\"Sentiment\"])\n",
        "y_train = label_encoder.transform(train_data[\"Sentiment\"])\n",
        "y_test = label_encoder.transform(test_data[\"Sentiment\"])"
      ],
      "metadata": {
        "id": "plsoTo1S8gm6"
      },
      "execution_count": 68,
      "outputs": []
    },
    {
      "cell_type": "code",
      "source": [
        "len(y_test)"
      ],
      "metadata": {
        "colab": {
          "base_uri": "https://localhost:8080/"
        },
        "id": "B7RsfQ_V8jKD",
        "outputId": "88dc7438-ce19-44ab-c09f-103b8d7e302b"
      },
      "execution_count": 69,
      "outputs": [
        {
          "output_type": "execute_result",
          "data": {
            "text/plain": [
              "2814"
            ]
          },
          "metadata": {},
          "execution_count": 69
        }
      ]
    },
    {
      "cell_type": "code",
      "source": [
        "train_data[\"Sentiment\"].unique()"
      ],
      "metadata": {
        "colab": {
          "base_uri": "https://localhost:8080/"
        },
        "id": "DPbOPyy28mK7",
        "outputId": "c7caacda-05a1-4bb7-d29d-4f83e559004d"
      },
      "execution_count": 70,
      "outputs": [
        {
          "output_type": "execute_result",
          "data": {
            "text/plain": [
              "array(['Neutral', 'Positive', 'Negative'], dtype=object)"
            ]
          },
          "metadata": {},
          "execution_count": 70
        }
      ]
    },
    {
      "cell_type": "code",
      "source": [
        "len(y_train)"
      ],
      "metadata": {
        "colab": {
          "base_uri": "https://localhost:8080/"
        },
        "id": "7plqKxM68pTb",
        "outputId": "c0212bf1-d889-4ffe-c1b4-12b571c73536"
      },
      "execution_count": 71,
      "outputs": [
        {
          "output_type": "execute_result",
          "data": {
            "text/plain": [
              "11252"
            ]
          },
          "metadata": {},
          "execution_count": 71
        }
      ]
    },
    {
      "cell_type": "code",
      "source": [
        "unique_labels = set(y_train)\n",
        "distinct_classes = list(unique_labels)\n",
        "\n",
        "# Display the distinct classes\n",
        "print(distinct_classes)"
      ],
      "metadata": {
        "colab": {
          "base_uri": "https://localhost:8080/"
        },
        "id": "E8KtaJ-l8skk",
        "outputId": "b5e5531e-5224-4372-f783-8761c9fe6649"
      },
      "execution_count": 72,
      "outputs": [
        {
          "output_type": "stream",
          "name": "stdout",
          "text": [
            "[0, 1, 2]\n"
          ]
        }
      ]
    },
    {
      "cell_type": "code",
      "source": [
        "# Build the LSTM-CNN model\n",
        "import tensorflow as tf\n",
        "input_layer = Input(shape=(128,), dtype=tf.int32, name=\"input_layer\")\n",
        "embedding_layer = bert_model(input_layer)[0]\n",
        "lstm_layer = LSTM(64, return_sequences=True)(embedding_layer)\n",
        "conv_layer = Conv1D(filters=128, kernel_size=3, activation='relu')(lstm_layer)\n",
        "pooling_layer = GlobalMaxPooling1D()(conv_layer)\n",
        "dropout_layer = Dropout(0.5)(pooling_layer)\n",
        "output_layer = Dense(len(label_encoder.classes_), activation=\"softmax\")(dropout_layer)\n",
        "model = Model(inputs=input_layer, outputs=output_layer)"
      ],
      "metadata": {
        "id": "QktwSMh78vyT"
      },
      "execution_count": 73,
      "outputs": []
    },
    {
      "cell_type": "code",
      "source": [
        "# Compile the model\n",
        "model.compile(loss=\"sparse_categorical_crossentropy\", optimizer=\"adam\", metrics=[\"accuracy\"])"
      ],
      "metadata": {
        "id": "-tkaorO5827b"
      },
      "execution_count": 74,
      "outputs": []
    },
    {
      "cell_type": "code",
      "source": [
        "model.summary()"
      ],
      "metadata": {
        "colab": {
          "base_uri": "https://localhost:8080/"
        },
        "id": "5FCtL1D48917",
        "outputId": "cbce0b0b-b8c4-43e0-f587-145be9b684c1"
      },
      "execution_count": 75,
      "outputs": [
        {
          "output_type": "stream",
          "name": "stdout",
          "text": [
            "Model: \"model\"\n",
            "_________________________________________________________________\n",
            " Layer (type)                Output Shape              Param #   \n",
            "=================================================================\n",
            " input_layer (InputLayer)    [(None, 128)]             0         \n",
            "                                                                 \n",
            " tf_bert_model (TFBertModel  TFBaseModelOutputWithPo   177853440 \n",
            " )                           olingAndCrossAttentions             \n",
            "                             (last_hidden_state=(Non             \n",
            "                             e, 128, 768),                       \n",
            "                              pooler_output=(None, 7             \n",
            "                             68),                                \n",
            "                              past_key_values=None,              \n",
            "                             hidden_states=None, att             \n",
            "                             entions=None, cross_att             \n",
            "                             entions=None)                       \n",
            "                                                                 \n",
            " lstm (LSTM)                 (None, 128, 64)           213248    \n",
            "                                                                 \n",
            " conv1d (Conv1D)             (None, 126, 128)          24704     \n",
            "                                                                 \n",
            " global_max_pooling1d (Glob  (None, 128)               0         \n",
            " alMaxPooling1D)                                                 \n",
            "                                                                 \n",
            " dropout_37 (Dropout)        (None, 128)               0         \n",
            "                                                                 \n",
            " dense (Dense)               (None, 3)                 387       \n",
            "                                                                 \n",
            "=================================================================\n",
            "Total params: 178091779 (679.37 MB)\n",
            "Trainable params: 238339 (931.01 KB)\n",
            "Non-trainable params: 177853440 (678.46 MB)\n",
            "_________________________________________________________________\n"
          ]
        }
      ]
    },
    {
      "cell_type": "code",
      "source": [
        "len(y_train)"
      ],
      "metadata": {
        "colab": {
          "base_uri": "https://localhost:8080/"
        },
        "id": "6S8kNAWj9GTU",
        "outputId": "f76f2d31-68a4-42f0-8805-af26cd4ee1f2"
      },
      "execution_count": 76,
      "outputs": [
        {
          "output_type": "execute_result",
          "data": {
            "text/plain": [
              "11252"
            ]
          },
          "metadata": {},
          "execution_count": 76
        }
      ]
    },
    {
      "cell_type": "code",
      "source": [
        "len(x_train)"
      ],
      "metadata": {
        "colab": {
          "base_uri": "https://localhost:8080/"
        },
        "id": "IRdHVNuE9Lkc",
        "outputId": "a28205d1-f340-477a-e1a9-df35c4bf298d"
      },
      "execution_count": 77,
      "outputs": [
        {
          "output_type": "execute_result",
          "data": {
            "text/plain": [
              "3"
            ]
          },
          "metadata": {},
          "execution_count": 77
        }
      ]
    },
    {
      "cell_type": "code",
      "source": [
        "len(x_train['input_ids'])"
      ],
      "metadata": {
        "colab": {
          "base_uri": "https://localhost:8080/"
        },
        "id": "6QKXLr599N1j",
        "outputId": "e619ccca-31cc-4c4e-c58b-26d0c037dbb1"
      },
      "execution_count": 78,
      "outputs": [
        {
          "output_type": "execute_result",
          "data": {
            "text/plain": [
              "11252"
            ]
          },
          "metadata": {},
          "execution_count": 78
        }
      ]
    },
    {
      "cell_type": "code",
      "source": [
        "# Train the model\n",
        "lstm_cnn_model = model.fit(x_train['input_ids'], y_train, batch_size=32, epochs=25, validation_split=0.2)"
      ],
      "metadata": {
        "colab": {
          "base_uri": "https://localhost:8080/"
        },
        "id": "UiYW7T_w9Rnt",
        "outputId": "6f72062b-6181-46c5-c3ee-cd8013ad3cf1"
      },
      "execution_count": null,
      "outputs": [
        {
          "output_type": "stream",
          "name": "stdout",
          "text": [
            "Epoch 1/25\n",
            " 66/282 [======>.......................] - ETA: 1:19:04 - loss: 0.7108 - accuracy: 0.6667"
          ]
        }
      ]
    },
    {
      "cell_type": "code",
      "source": [
        "# Save the model as an HDF5 file\n",
        "model.save('/content/drive/MyDrive/GERD_Analysis/Models/LSTM_CNN_Model.h5')"
      ],
      "metadata": {
        "id": "EYYUHAS09Szz"
      },
      "execution_count": null,
      "outputs": []
    },
    {
      "cell_type": "code",
      "source": [
        "from tensorflow.keras.models import load_model\n",
        "\n",
        "# Load the saved model\n",
        "from transformers import TFBertModel\n",
        "import tensorflow.keras.backend as K\n",
        "\n",
        "# Define a custom_objects dictionary that includes the TFBertModel layer\n",
        "custom_objects = {'TFBertModel': TFBertModel}\n",
        "\n",
        "# Register the custom_objects dictionary with Keras\n",
        "K.set_learning_phase(0)\n",
        "model = tf.keras.models.load_model('/content/drive/My Drive/Myfiles/Models/LSTM_CNN_Model.h5', custom_objects=custom_objects)"
      ],
      "metadata": {
        "id": "XvEJ5PpB9pi8"
      },
      "execution_count": null,
      "outputs": []
    },
    {
      "cell_type": "code",
      "source": [
        "# Evaluate the model on the test data\n",
        "loss, accuracy = model.evaluate(x_test['input_ids'], y_test, batch_size=32)"
      ],
      "metadata": {
        "id": "lQ2ZbK1h92x4"
      },
      "execution_count": null,
      "outputs": []
    },
    {
      "cell_type": "code",
      "source": [
        "# Make predictions on the test data\n",
        "y_pred = np.argmax(model.predict(x_test['input_ids']), axis=-1)"
      ],
      "metadata": {
        "id": "9srEzmGU-W2C"
      },
      "execution_count": null,
      "outputs": []
    },
    {
      "cell_type": "code",
      "source": [
        "from sklearn.metrics import classification_report, confusion_matrix\n",
        "# Print the classification report and confusion matrix\n",
        "print(\"Test Data Classification Report:\")\n",
        "print(classification_report(y_test, y_pred))\n",
        "print(\"Test Data Confusion Matrix:\")\n",
        "print(confusion_matrix(y_test, y_pred))"
      ],
      "metadata": {
        "id": "3xwEksl9-Zzm"
      },
      "execution_count": null,
      "outputs": []
    },
    {
      "cell_type": "code",
      "source": [
        "# Encode the input text using the tokenizer\n",
        "input_text = \"ركز لنا على موضوع سد النهضة وخاصة سلامة السد\"\n",
        "input_ids = tokenizer.encode(input_text, padding=True, truncation=True, max_length=128, return_tensors='tf')\n",
        "\n",
        "# Make a prediction using the model\n",
        "predicted_label = np.argmax(model.predict(input_ids), axis=-1)\n",
        "\n",
        "# Convert the predicted label to its original class name\n",
        "label_encoder = LabelEncoder()\n",
        "label_encoder.fit([\"Positive\", \"Negative\", \"Neutral\"])  # Replace with the actual class names\n",
        "predicted_class = label_encoder.inverse_transform(predicted_label)\n",
        "\n",
        "# Print the predicted class\n",
        "print(predicted_class)"
      ],
      "metadata": {
        "id": "O4sDbLACAGJJ"
      },
      "execution_count": null,
      "outputs": []
    },
    {
      "cell_type": "code",
      "source": [
        "# Encode the CSV data using the tokenizer\n",
        "arabic_test=pd.read_excel(\"/content/drive/My Drive/Myfiles/TotalArabic_Tweets_secondRound.xlsx\")\n",
        "x_csv = tokenizer(list(arabic_test[\"full text\"]), padding=True, truncation=True, max_length=128, return_tensors='tf')\n",
        "\n",
        "# Make predictions on the CSV data\n",
        "csv_pred = label_encoder.inverse_transform(np.argmax(model.predict(x_csv['input_ids']), axis=-1))\n",
        "\n",
        "# Add the predicted labels to the CSV data\n",
        "arabic_test[\"predicted_label\"] = csv_pred\n",
        "\n",
        "# Save the CSV data with the predicted labels to a new file\n",
        "arabic_test.to_csv(\"/content/drive/My Drive/Myfiles/csv_data_predicted.csv\", index=False)"
      ],
      "metadata": {
        "id": "Az5FbU1AALiE"
      },
      "execution_count": null,
      "outputs": []
    },
    {
      "cell_type": "code",
      "source": [
        "import pandas as pd\n",
        "import matplotlib.pyplot as plt\n",
        "\n",
        "# Load the CSV data with the predicted labels\n",
        "arabic_test_predicted = pd.read_csv(\"/content/drive/My Drive/Myfiles/csv_data_predicted.csv\")\n",
        "\n",
        "# Count the number of tweets with each label\n",
        "label_counts = arabic_test_predicted[\"predicted_label\"].value_counts()\n",
        "\n",
        "# Create a pie chart to display the percentage of Positive, Negative, and Neutral tweets\n",
        "labels = ['Positive', 'Negative', 'Neutral']\n",
        "sizes = [label_counts[0], label_counts[1], label_counts[2]]\n",
        "colors = ['green', 'red', 'gray']\n",
        "explode = (0.1, 0.1, 0.1)\n",
        "\n",
        "plt.pie(sizes, explode=explode, labels=labels, colors=colors,\n",
        "        autopct='%1.1f%%', startangle=90)\n",
        "\n",
        "# Add a title to the pie chart\n",
        "plt.title('Percentage of Positive, Negative, and Neutral Tweets')\n",
        "\n",
        "plt.axis('equal')\n",
        "plt.show()"
      ],
      "metadata": {
        "id": "DRqlvn66AMle"
      },
      "execution_count": null,
      "outputs": []
    },
    {
      "cell_type": "code",
      "source": [
        "import pandas as pd\n",
        "import matplotlib.pyplot as plt\n",
        "\n",
        "# Load the CSV data with the predicted labels\n",
        "#arabic_test_predicted = pd.read_csv(\"csv_data_predicted.csv\")\n",
        "arabic_test_predicted = pd.read_csv(\"/content/drive/My Drive/Myfiles/csv_data_predicted.csv\")\n",
        "\n",
        "# Count the number of tweets with each label\n",
        "label_counts = arabic_test_predicted[\"predicted_label\"].value_counts()\n",
        "\n",
        "# Create a bar chart to display the percentage of Positive, Negative, and Neutral tweets\n",
        "labels = ['Positive', 'Negative', 'Neutral']\n",
        "sizes = [label_counts[0], label_counts[1], label_counts[2]]\n",
        "colors = ['green', 'red', 'gray']\n",
        "\n",
        "plt.bar(labels, sizes, color=colors)\n",
        "\n",
        "# Add a title and axis labels to the bar chart\n",
        "plt.title('Percentage of Positive, Negative, and Neutral Tweets')\n",
        "plt.xlabel('Sentiment')\n",
        "plt.ylabel('Number of Tweets')\n",
        "\n",
        "plt.show()"
      ],
      "metadata": {
        "id": "sf2JmP4DAV8s"
      },
      "execution_count": null,
      "outputs": []
    },
    {
      "cell_type": "code",
      "source": [
        "import pandas as pd\n",
        "import matplotlib.pyplot as plt\n",
        "\n",
        "# Load the CSV data with the predicted labels\n",
        "arabic_test_predicted = pd.read_csv(\"/content/drive/My Drive/Myfiles/csv_data_predicted.csv\")\n",
        "\n",
        "# Count the number of tweets with each label\n",
        "label_counts = arabic_test_predicted[\"predicted_label\"].value_counts()\n",
        "\n",
        "# Create a bar chart to display the percentage of Positive, Negative, and Neutral tweets\n",
        "labels = ['Positive', 'Negative', 'Neutral']\n",
        "sizes = [label_counts[0], label_counts[1], label_counts[2]]\n",
        "colors = ['green', 'red', 'gray']\n",
        "\n",
        "plt.bar(labels, sizes, color=colors)\n",
        "\n",
        "# Add the number of tweets at the top of each bar\n",
        "for i, v in enumerate(sizes):\n",
        "    plt.text(i, v, str(v), ha='center', fontweight='bold')\n",
        "\n",
        "# Add a title and axis labels to the bar chart\n",
        "plt.title('Percentage of Positive, Negative, and Neutral Tweets')\n",
        "plt.xlabel('Sentiment')\n",
        "plt.ylabel('Number of Tweets')\n",
        "\n",
        "plt.show()"
      ],
      "metadata": {
        "id": "1X3vy5RIAaLj"
      },
      "execution_count": null,
      "outputs": []
    },
    {
      "cell_type": "code",
      "source": [
        "# Encode the CSV data using the tokenizer\n",
        "arabic_test=pd.read_excel(\"/content/drive/My Drive/Myfiles/Second_round__arabic_FinalTweetsAfterComment.xlsx\")\n",
        "x_csv = tokenizer(list(arabic_test[\"full_text\"]), padding=True, truncation=True, max_length=128, return_tensors='tf')\n",
        "\n",
        "# Make predictions on the CSV data\n",
        "csv_pred = label_encoder.inverse_transform(np.argmax(model.predict(x_csv['input_ids']), axis=-1))\n",
        "\n",
        "# Add the predicted labels to the CSV data\n",
        "arabic_test[\"predicted_label\"] = csv_pred\n",
        "\n",
        "# Save the CSV data with the predicted labels to a new file\n",
        "arabic_test.to_csv(\"/content/drive/My Drive/Myfiles/csv_data_predicted_2.csv\", index=False)"
      ],
      "metadata": {
        "id": "xXtb3_oVAcsN"
      },
      "execution_count": null,
      "outputs": []
    },
    {
      "cell_type": "code",
      "source": [
        "import pandas as pd\n",
        "import matplotlib.pyplot as plt\n",
        "\n",
        "# Load the CSV data with the predicted labels\n",
        "arabic_test_predicted = pd.read_csv(\"/content/drive/My Drive/Myfiles/csv_data_predicted_2.csv\")\n",
        "\n",
        "# Count the number of tweets with each label\n",
        "label_counts = arabic_test_predicted[\"predicted_label\"].value_counts()\n",
        "\n",
        "# Create a bar chart to display the percentage of Positive, Negative, and Neutral tweets\n",
        "labels = ['Negative','Positive', 'Neutral']\n",
        "sizes = [label_counts[0], label_counts[1], label_counts[2]]\n",
        "colors = ['green', 'red', 'gray']\n",
        "\n",
        "plt.bar(labels, sizes, color=colors)\n",
        "\n",
        "# Add the number of tweets at the top of each bar\n",
        "for i, v in enumerate(sizes):\n",
        "    plt.text(i, v, str(v), ha='center', fontweight='bold')\n",
        "\n",
        "# Add a title and axis labels to the bar chart\n",
        "plt.title('Percentage of Positive, Negative, and Neutral Tweets')\n",
        "plt.xlabel('Sentiment')\n",
        "plt.ylabel('Number of Tweets')\n",
        "\n",
        "plt.show()"
      ],
      "metadata": {
        "id": "_g7y4l6UAfAk"
      },
      "execution_count": null,
      "outputs": []
    },
    {
      "cell_type": "code",
      "source": [
        "import pandas as pd\n",
        "\"Arabic_Negative_Tweets_final_round\"\n",
        "\n",
        "# Load the CSV data with the predicted labels\n",
        "arabic_test_predicted = pd.read_csv(\"/content/drive/My Drive/Myfiles/csv_data_predicted_2.csv\")\n",
        "\n",
        "# Get the texts with the highest counts\n",
        "top_texts = arabic_test_predicted[\"full_text\"].value_counts().head(10)\n",
        "\n",
        "# Display the texts with the highest counts\n",
        "print(\"Top 10 frequently occurring texts:\")\n",
        "print(top_texts)"
      ],
      "metadata": {
        "id": "iK96o2Z3AhVw"
      },
      "execution_count": null,
      "outputs": []
    },
    {
      "cell_type": "code",
      "source": [
        "# Display the texts with the highest counts and their counts\n",
        "print(\"Top 10 frequently occurring texts:\")\n",
        "for text, count in top_texts.items():\n",
        "    print(f\"{text}: {count}\")"
      ],
      "metadata": {
        "id": "uh5pIUZTAjsr"
      },
      "execution_count": null,
      "outputs": []
    },
    {
      "cell_type": "code",
      "source": [
        "neg_Arab = pd.read_excel(\"/content/drive/My Drive/Myfiles/Arabic_Negative_Tweets_final_round.xlsx\")\n",
        "\n",
        "new_df = neg_Arab.full_text.str.split(expand=True).stack().value_counts().reset_index()\n",
        "\n",
        "new_df.columns = ['Word', 'Frequency']"
      ],
      "metadata": {
        "id": "yZ3EOl-VAmGc"
      },
      "execution_count": null,
      "outputs": []
    },
    {
      "cell_type": "code",
      "source": [
        "new_df.to_excel(\"/content/drive/My Drive/Myfiles/Top_negative_Arabic_words.xlsx\")"
      ],
      "metadata": {
        "id": "f6K9RuqbAq82"
      },
      "execution_count": null,
      "outputs": []
    },
    {
      "cell_type": "code",
      "source": [
        "neg_Arab_trans_to_En= pd.read_excel(\"/content/drive/My Drive/Myfiles/Top_negative_Arabic_Engl_translated_words.xlsx\")\n",
        "neg_Arab_trans_to_En[\"Word\"][:60].value_counts().plot.bar(\"Word\",14)"
      ],
      "metadata": {
        "id": "Zy7nsuEkA4MC"
      },
      "execution_count": null,
      "outputs": []
    },
    {
      "cell_type": "code",
      "source": [
        "neg_Arab_trans_to_En= pd.read_excel(\"/content/drive/My Drive/Myfiles/GERD Tweets SecondRound.xlsx\")\n",
        "neg_en=neg_Arab_trans_to_En[neg_Arab_trans_to_En[\"lang\"]==\"en\"]\n",
        "neg_en"
      ],
      "metadata": {
        "id": "zl2Rs_b0A6JD"
      },
      "execution_count": null,
      "outputs": []
    },
    {
      "cell_type": "code",
      "source": [
        "neg_en = neg_en.rename(columns={\"full text\": \"full_text\"})\n",
        "neg_en"
      ],
      "metadata": {
        "id": "GdqSdx-HA8Vq"
      },
      "execution_count": null,
      "outputs": []
    },
    {
      "cell_type": "code",
      "source": [
        "neg_en1=neg_en[neg_en[\"Sentiment\"]==\"Negative\"]\n",
        "neg_en1.head()"
      ],
      "metadata": {
        "id": "AnfUPFmEB_AS"
      },
      "execution_count": null,
      "outputs": []
    },
    {
      "cell_type": "code",
      "source": [
        "neg_en1.full_text.str.split(expand=True)"
      ],
      "metadata": {
        "id": "ijitYnwFCDR5"
      },
      "execution_count": null,
      "outputs": []
    },
    {
      "cell_type": "code",
      "source": [
        "neg_en1.full_text.str.split(expand=True).stack().value_counts()"
      ],
      "metadata": {
        "id": "_7e84NfjCHoy"
      },
      "execution_count": null,
      "outputs": []
    },
    {
      "cell_type": "code",
      "source": [
        "mport pandas as pd\n",
        "from wordcloud import WordCloud\n",
        "import matplotlib.pyplot as plt\n",
        "from nltk.corpus import stopwords\n",
        "#from ArabicStemmer import ArabicStemmer\n",
        "\n",
        "\n",
        "\n",
        "# Combine all tweets into a single string\n",
        "text = \" \".join(tweet for tweet in neg_en1.full_text)\n",
        "import nltk\n",
        "nltk.download('stopwords')\n",
        "# Define stop words for English\n",
        "english_stop_words = set(stopwords.words('english'))\n",
        "\n",
        "# Define stop words for Arabic\n",
        "#arabic_stemmer = ArabicStemmer()\n",
        "#arabic_stop_words = set(arabic_stemmer.get_stop_words())\n",
        "\n",
        "# Generate a word cloud\n",
        "#wordcloud = WordCloud(width=1000, height=600, background_color=\"white\", stopwords=english_stop_words.union(arabic_stop_words)).generate(text)\n",
        "wordcloud = WordCloud(width=1400, height=800, background_color=\"white\", stopwords=english_stop_words).generate(text)\n",
        "\n",
        "# Plot the word cloud\n",
        "plt.figure(figsize=(16, 10))\n",
        "plt.imshow(wordcloud, interpolation='bilinear')\n",
        "plt.axis('off')\n",
        "plt.show()"
      ],
      "metadata": {
        "id": "nzp4DWEbCOIj"
      },
      "execution_count": null,
      "outputs": []
    },
    {
      "cell_type": "code",
      "source": [
        "amh_twt= pd.read_excel(\"/content/drive/My Drive/Myfiles/Total_mixed_data.xlsx\")\n",
        "amh_twt=amh_twt[amh_twt[\"lang\"]==\"am\"]"
      ],
      "metadata": {
        "id": "rnl1YQ9GCR9h"
      },
      "execution_count": null,
      "outputs": []
    },
    {
      "cell_type": "code",
      "source": [
        "amh_pos_twt=amh_twt[amh_twt[\"Sentiment\"]==\"Positive\"]\n",
        "amh_pos_twt.head()"
      ],
      "metadata": {
        "id": "efXqUY-HCT5p"
      },
      "execution_count": null,
      "outputs": []
    },
    {
      "cell_type": "code",
      "source": [
        "amh_pos_twt.full_text.str.split(expand=True).stack().value_counts()"
      ],
      "metadata": {
        "id": "uTBkheeMCWQf"
      },
      "execution_count": null,
      "outputs": []
    },
    {
      "cell_type": "code",
      "source": [
        "import pandas as pd\n",
        "from wordcloud import WordCloud\n",
        "import matplotlib.pyplot as plt\n",
        "from nltk.corpus import stopwords\n",
        "#from ArabicStemmer import ArabicStemmer\n",
        "\n",
        "\n",
        "\n",
        "# Combine all tweets into a single string\n",
        "text = \" \".join(tweet for tweet in amh_pos_twt.full_text)\n",
        "import nltk\n",
        "nltk.download('stopwords')\n",
        "# Define stop words for English\n",
        "english_stop_words = set(stopwords.words('english'))\n",
        "\n",
        "# Define stop words for Arabic\n",
        "#arabic_stemmer = ArabicStemmer()\n",
        "#arabic_stop_words = set(arabic_stemmer.get_stop_words())\n",
        "\n",
        "# Generate a word cloud\n",
        "#wordcloud = WordCloud(width=1000, height=600, background_color=\"white\", stopwords=english_stop_words.union(arabic_stop_words)).generate(text)\n",
        "wordcloud = WordCloud(width=1400, height=800, background_color=\"white\", stopwords=english_stop_words).generate(text)\n",
        "\n",
        "# Plot the word cloud\n",
        "plt.figure(figsize=(16, 10))\n",
        "plt.imshow(wordcloud, interpolation='bilinear')\n",
        "plt.axis('off')\n",
        "plt.show()"
      ],
      "metadata": {
        "id": "saP8z2ZYCbBz"
      },
      "execution_count": null,
      "outputs": []
    },
    {
      "cell_type": "code",
      "source": [
        "new_df_ar_en = neg_en1.full_text.str.split(expand=True).stack().value_counts().reset_index()\n",
        "\n",
        "new_df_ar_en = ['Word', 'Frequency']\n",
        "new_df_ar_en.head()"
      ],
      "metadata": {
        "id": "P9MKS-ZQCewb"
      },
      "execution_count": null,
      "outputs": []
    },
    {
      "cell_type": "code",
      "source": [
        "new_df.head(50)"
      ],
      "metadata": {
        "id": "JZNFeM6sChQq"
      },
      "execution_count": null,
      "outputs": []
    },
    {
      "cell_type": "code",
      "source": [
        "arabic_test_predicted = pd.read_csv(\"/content/drive/My Drive/Myfiles/csv_data_predicted_2.csv\")\n",
        "\n",
        "new_df = arabic_test_predicted.full_text.str.split(expand=True).stack().value_counts().reset_index()\n",
        "\n",
        "new_df.columns = ['Word', 'Frequency']\n",
        "new_df.head(20)"
      ],
      "metadata": {
        "id": "LWRUAKFQCmip"
      },
      "execution_count": null,
      "outputs": []
    },
    {
      "cell_type": "code",
      "source": [
        "df2 = arabic_test_predicted[\"full_text\"]\n",
        "df2.head()"
      ],
      "metadata": {
        "id": "7Q9OQx82Cp8R"
      },
      "execution_count": null,
      "outputs": []
    },
    {
      "cell_type": "code",
      "source": [
        "import nltk\n",
        "nltk.download('punkt')"
      ],
      "metadata": {
        "id": "Bm0qR9P8CsBy"
      },
      "execution_count": null,
      "outputs": []
    },
    {
      "cell_type": "code",
      "source": [
        "from nltk.tokenize import word_tokenize\n",
        "word_tokenize(df2)"
      ],
      "metadata": {
        "id": "lkR8wDEDCuL1"
      },
      "execution_count": null,
      "outputs": []
    },
    {
      "cell_type": "code",
      "source": [
        "import pandas as pd\n",
        "from sklearn.feature_extraction.text import CountVectorizer\n",
        "\n",
        "# Load the CSV data with the predicted labels\n",
        "arabic_test_predicted = pd.read_csv(\"/content/drive/My Drive/Myfiles/csv_data_predicted_2.csv\")\n",
        "\n",
        "\n",
        "\n",
        "# Create a CountVectorizer object to count the occurrences of each word\n",
        "# Create a CountVectorizer object to count the occurrences of each word\n",
        "vectorizer = CountVectorizer()\n",
        "\n",
        "# Count the occurrences of each word in the texts\n",
        "text_counts = vectorizer.fit_transform(arabic_test_predicted[\"full_text\"])\n",
        "\n",
        "# Get the frequency counts of each word\n",
        "word_counts = pd.DataFrame(text_counts.sum(axis=0), columns=vectorizer.get_feature_names()).transpose()\n",
        "word_counts.columns = [\"Frequency\"]\n",
        "\n",
        "# Display the frequency of each word\n",
        "print(\"Word frequency counts:\")\n",
        "print(word_counts)"
      ],
      "metadata": {
        "id": "dTeiX8vyCxRs"
      },
      "execution_count": null,
      "outputs": []
    },
    {
      "cell_type": "code",
      "source": [
        "filtered_text_list = [val for val in text if val not in stop_words]\n",
        "filtered_text = ' '.join(filtered_text_list)\n",
        "filtered_text_list[:10]"
      ],
      "metadata": {
        "id": "CqlLujcxC0E6"
      },
      "execution_count": null,
      "outputs": []
    }
  ]
}